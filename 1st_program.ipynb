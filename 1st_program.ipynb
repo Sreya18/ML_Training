{
  "cells": [
    {
      "cell_type": "markdown",
      "metadata": {
        "id": "view-in-github",
        "colab_type": "text"
      },
      "source": [
        "<a href=\"https://colab.research.google.com/github/Sreya18/ML_Training/blob/main/1st_program.ipynb\" target=\"_parent\"><img src=\"https://colab.research.google.com/assets/colab-badge.svg\" alt=\"Open In Colab\"/></a>"
      ]
    },
    {
      "cell_type": "code",
      "execution_count": null,
      "id": "ddea8db0",
      "metadata": {
        "id": "ddea8db0",
        "outputId": "b152baa7-24ec-4cfa-a7f6-43d9ad46b9bc"
      },
      "outputs": [
        {
          "name": "stdout",
          "output_type": "stream",
          "text": [
            "C:\\Users\\KIIT\\Desktop\\ML_Dec\n"
          ]
        }
      ],
      "source": [
        "import os\n",
        "print(os.getcwd())\n"
      ]
    },
    {
      "cell_type": "code",
      "execution_count": null,
      "id": "df791e10",
      "metadata": {
        "id": "df791e10",
        "outputId": "1c9612af-17f9-4812-c970-14f767125b5f"
      },
      "outputs": [
        {
          "name": "stdout",
          "output_type": "stream",
          "text": [
            "Good Morning\n"
          ]
        }
      ],
      "source": [
        "print(\"Good Morning\")"
      ]
    },
    {
      "cell_type": "markdown",
      "id": "9b93b858",
      "metadata": {
        "id": "9b93b858"
      },
      "source": [
        "# This is the 1st program"
      ]
    },
    {
      "cell_type": "code",
      "execution_count": null,
      "id": "ca5f8fbc",
      "metadata": {
        "id": "ca5f8fbc",
        "outputId": "c9a8024e-5d56-4200-c7e4-6637f9c69604"
      },
      "outputs": [
        {
          "data": {
            "text/plain": [
              "2"
            ]
          },
          "execution_count": 1,
          "metadata": {},
          "output_type": "execute_result"
        }
      ],
      "source": [
        "1+1\n"
      ]
    },
    {
      "cell_type": "code",
      "execution_count": null,
      "id": "827b2a00-d561-4aea-82af-4c7160f206ff",
      "metadata": {
        "id": "827b2a00-d561-4aea-82af-4c7160f206ff",
        "outputId": "2eee5c95-82e9-461e-eaf9-af0b8ea1f800"
      },
      "outputs": [
        {
          "name": "stdout",
          "output_type": "stream",
          "text": [
            "Hello, How are you?\n"
          ]
        }
      ],
      "source": [
        "print(\"Hello, How are you?\")"
      ]
    },
    {
      "cell_type": "code",
      "execution_count": null,
      "id": "0af4b965-d710-4b6d-b772-343e8d96e045",
      "metadata": {
        "id": "0af4b965-d710-4b6d-b772-343e8d96e045"
      },
      "outputs": [],
      "source": [
        ""
      ]
    }
  ],
  "metadata": {
    "kernelspec": {
      "display_name": "Python 3 (ipykernel)",
      "language": "python",
      "name": "python3"
    },
    "language_info": {
      "codemirror_mode": {
        "name": "ipython",
        "version": 3
      },
      "file_extension": ".py",
      "mimetype": "text/x-python",
      "name": "python",
      "nbconvert_exporter": "python",
      "pygments_lexer": "ipython3",
      "version": "3.9.7"
    },
    "colab": {
      "name": "1st program.ipynb",
      "provenance": [],
      "include_colab_link": true
    }
  },
  "nbformat": 4,
  "nbformat_minor": 5
}