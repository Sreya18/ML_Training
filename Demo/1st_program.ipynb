{
  "cells": [
    {
      "cell_type": "markdown",
      "metadata": {
        "id": "view-in-github",
        "colab_type": "text"
      },
      "source": [
        "<a href=\"https://colab.research.google.com/github/Sreya18/ML_Training/blob/main/Demo/1st_program.ipynb\" target=\"_parent\"><img src=\"https://colab.research.google.com/assets/colab-badge.svg\" alt=\"Open In Colab\"/></a>"
      ]
    },
    {
      "cell_type": "code",
      "execution_count": null,
      "id": "ddea8db0",
      "metadata": {
        "id": "ddea8db0",
        "outputId": "837e3bb5-df80-4b29-b6cc-0af1caa27966"
      },
      "outputs": [
        {
          "name": "stdout",
          "output_type": "stream",
          "text": [
            "C:\\Users\\KIIT\\Desktop\\ML_Dec\n"
          ]
        }
      ],
      "source": [
        "import os\n",
        "print(os.getcwd())\n"
      ]
    },
    {
      "cell_type": "code",
      "execution_count": null,
      "id": "df791e10",
      "metadata": {
        "id": "df791e10",
        "outputId": "a3513e72-53f8-4dbd-96e9-700e80d6ec5a"
      },
      "outputs": [
        {
          "name": "stdout",
          "output_type": "stream",
          "text": [
            "Good Morning\n"
          ]
        }
      ],
      "source": [
        "print(\"Good Morning\")"
      ]
    },
    {
      "cell_type": "markdown",
      "id": "9b93b858",
      "metadata": {
        "id": "9b93b858"
      },
      "source": [
        "# This is the 1st program"
      ]
    },
    {
      "cell_type": "code",
      "execution_count": null,
      "id": "ca5f8fbc",
      "metadata": {
        "id": "ca5f8fbc",
        "outputId": "b2979fe8-0a99-4e8e-ef1a-ebd5323bda9c"
      },
      "outputs": [
        {
          "data": {
            "text/plain": [
              "2"
            ]
          },
          "execution_count": 1,
          "metadata": {},
          "output_type": "execute_result"
        }
      ],
      "source": [
        "1+1\n"
      ]
    },
    {
      "cell_type": "code",
      "execution_count": null,
      "id": "827b2a00-d561-4aea-82af-4c7160f206ff",
      "metadata": {
        "id": "827b2a00-d561-4aea-82af-4c7160f206ff",
        "outputId": "06040567-cc04-4677-c877-7df2f672e3e3"
      },
      "outputs": [
        {
          "name": "stdout",
          "output_type": "stream",
          "text": [
            "Hello, How are you?\n"
          ]
        }
      ],
      "source": [
        "print(\"Hello, How are you?\")"
      ]
    },
    {
      "cell_type": "code",
      "execution_count": null,
      "id": "0af4b965-d710-4b6d-b772-343e8d96e045",
      "metadata": {
        "id": "0af4b965-d710-4b6d-b772-343e8d96e045",
        "outputId": "45115b7a-2279-46c9-b790-621440746f5e"
      },
      "outputs": [
        {
          "data": {
            "text/plain": [
              "'5 there'"
            ]
          },
          "execution_count": 1,
          "metadata": {},
          "output_type": "execute_result"
        }
      ],
      "source": [
        "str(\"5\") + \" there\""
      ]
    },
    {
      "cell_type": "code",
      "execution_count": null,
      "id": "481e05c1-d2d6-44ea-9bb9-0b0bd692a114",
      "metadata": {
        "id": "481e05c1-d2d6-44ea-9bb9-0b0bd692a114",
        "outputId": "b3d6c1fb-c4ab-4569-b0e9-8d459800646e"
      },
      "outputs": [
        {
          "data": {
            "text/plain": [
              "'5there'"
            ]
          },
          "execution_count": 4,
          "metadata": {},
          "output_type": "execute_result"
        }
      ],
      "source": [
        "\"5\"+\"there\""
      ]
    },
    {
      "cell_type": "code",
      "execution_count": null,
      "id": "e1165b0d-8bfe-4755-bb44-0804f9727a04",
      "metadata": {
        "id": "e1165b0d-8bfe-4755-bb44-0804f9727a04",
        "outputId": "af58a058-a1ef-4624-9c41-a9b3cc7a08f1"
      },
      "outputs": [
        {
          "name": "stdout",
          "output_type": "stream",
          "text": [
            "5\n"
          ]
        }
      ],
      "source": [
        "a = 5\n",
        "print(a)"
      ]
    },
    {
      "cell_type": "code",
      "execution_count": null,
      "id": "0147aa8c",
      "metadata": {
        "id": "0147aa8c",
        "outputId": "65a05813-7165-421f-ad06-fdf89483fb1d"
      },
      "outputs": [
        {
          "name": "stdout",
          "output_type": "stream",
          "text": [
            "hi\n"
          ]
        }
      ],
      "source": [
        "a='hi'\n",
        "print(a)"
      ]
    },
    {
      "cell_type": "code",
      "execution_count": 1,
      "id": "1fd6e835",
      "metadata": {
        "id": "1fd6e835",
        "outputId": "2528f384-f7d9-414a-dd7a-9117241b2383",
        "colab": {
          "base_uri": "https://localhost:8080/"
        }
      },
      "outputs": [
        {
          "output_type": "stream",
          "name": "stdout",
          "text": [
            "101\n"
          ]
        }
      ],
      "source": [
        "A='10'\n",
        "A=A+'1'\n",
        "print(A)"
      ]
    },
    {
      "cell_type": "code",
      "source": [
        "A=10\n",
        "A=A+1\n",
        "print(A)"
      ],
      "metadata": {
        "id": "rEHX7vwIO89K",
        "outputId": "88cc66f7-ef27-4480-be00-96d76c025f26",
        "colab": {
          "base_uri": "https://localhost:8080/"
        }
      },
      "id": "rEHX7vwIO89K",
      "execution_count": 2,
      "outputs": [
        {
          "output_type": "stream",
          "name": "stdout",
          "text": [
            "11\n"
          ]
        }
      ]
    },
    {
      "cell_type": "code",
      "source": [
        "A='10'\n",
        "B=A+'1'\n",
        "print(A)\n",
        "print(B)\n",
        "C= int(A)+int(B)\n",
        "print(C)"
      ],
      "metadata": {
        "id": "Dgco19N5PGhg",
        "outputId": "f39c3fd2-16e2-416b-fc82-d13750553cc0",
        "colab": {
          "base_uri": "https://localhost:8080/"
        }
      },
      "id": "Dgco19N5PGhg",
      "execution_count": 3,
      "outputs": [
        {
          "output_type": "stream",
          "name": "stdout",
          "text": [
            "10\n",
            "101\n",
            "111\n"
          ]
        }
      ]
    },
    {
      "cell_type": "code",
      "source": [
        ""
      ],
      "metadata": {
        "id": "YeqdvlyWPKNR"
      },
      "id": "YeqdvlyWPKNR",
      "execution_count": null,
      "outputs": []
    }
  ],
  "metadata": {
    "kernelspec": {
      "display_name": "Python 3 (ipykernel)",
      "language": "python",
      "name": "python3"
    },
    "language_info": {
      "codemirror_mode": {
        "name": "ipython",
        "version": 3
      },
      "file_extension": ".py",
      "mimetype": "text/x-python",
      "name": "python",
      "nbconvert_exporter": "python",
      "pygments_lexer": "ipython3",
      "version": "3.8.12"
    },
    "colab": {
      "name": "1st program.ipynb",
      "provenance": [],
      "include_colab_link": true
    }
  },
  "nbformat": 4,
  "nbformat_minor": 5
}