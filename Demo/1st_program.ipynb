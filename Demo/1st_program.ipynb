{
  "cells": [
    {
      "cell_type": "markdown",
      "metadata": {
        "id": "view-in-github",
        "colab_type": "text"
      },
      "source": [
        "<a href=\"https://colab.research.google.com/github/Sreya18/ML_Training/blob/main/Demo/1st_program.ipynb\" target=\"_parent\"><img src=\"https://colab.research.google.com/assets/colab-badge.svg\" alt=\"Open In Colab\"/></a>"
      ]
    },
    {
      "cell_type": "code",
      "execution_count": null,
      "id": "ddea8db0",
      "metadata": {
        "id": "ddea8db0",
        "outputId": "837e3bb5-df80-4b29-b6cc-0af1caa27966"
      },
      "outputs": [
        {
          "name": "stdout",
          "output_type": "stream",
          "text": [
            "C:\\Users\\KIIT\\Desktop\\ML_Dec\n"
          ]
        }
      ],
      "source": [
        "import os\n",
        "print(os.getcwd())\n"
      ]
    },
    {
      "cell_type": "code",
      "execution_count": null,
      "id": "df791e10",
      "metadata": {
        "id": "df791e10",
        "outputId": "a3513e72-53f8-4dbd-96e9-700e80d6ec5a"
      },
      "outputs": [
        {
          "name": "stdout",
          "output_type": "stream",
          "text": [
            "Good Morning\n"
          ]
        }
      ],
      "source": [
        "print(\"Good Morning\")"
      ]
    },
    {
      "cell_type": "markdown",
      "id": "9b93b858",
      "metadata": {
        "id": "9b93b858"
      },
      "source": [
        "# This is the 1st program"
      ]
    },
    {
      "cell_type": "code",
      "execution_count": null,
      "id": "ca5f8fbc",
      "metadata": {
        "id": "ca5f8fbc",
        "outputId": "b2979fe8-0a99-4e8e-ef1a-ebd5323bda9c"
      },
      "outputs": [
        {
          "data": {
            "text/plain": [
              "2"
            ]
          },
          "execution_count": 1,
          "metadata": {},
          "output_type": "execute_result"
        }
      ],
      "source": [
        "1+1\n"
      ]
    },
    {
      "cell_type": "code",
      "execution_count": null,
      "id": "827b2a00-d561-4aea-82af-4c7160f206ff",
      "metadata": {
        "id": "827b2a00-d561-4aea-82af-4c7160f206ff",
        "outputId": "06040567-cc04-4677-c877-7df2f672e3e3"
      },
      "outputs": [
        {
          "name": "stdout",
          "output_type": "stream",
          "text": [
            "Hello, How are you?\n"
          ]
        }
      ],
      "source": [
        "print(\"Hello, How are you?\")"
      ]
    },
    {
      "cell_type": "code",
      "execution_count": null,
      "id": "0af4b965-d710-4b6d-b772-343e8d96e045",
      "metadata": {
        "id": "0af4b965-d710-4b6d-b772-343e8d96e045",
        "outputId": "45115b7a-2279-46c9-b790-621440746f5e"
      },
      "outputs": [
        {
          "data": {
            "text/plain": [
              "'5 there'"
            ]
          },
          "execution_count": 1,
          "metadata": {},
          "output_type": "execute_result"
        }
      ],
      "source": [
        "str(\"5\") + \" there\""
      ]
    },
    {
      "cell_type": "code",
      "execution_count": null,
      "id": "481e05c1-d2d6-44ea-9bb9-0b0bd692a114",
      "metadata": {
        "id": "481e05c1-d2d6-44ea-9bb9-0b0bd692a114",
        "outputId": "b3d6c1fb-c4ab-4569-b0e9-8d459800646e"
      },
      "outputs": [
        {
          "data": {
            "text/plain": [
              "'5there'"
            ]
          },
          "execution_count": 4,
          "metadata": {},
          "output_type": "execute_result"
        }
      ],
      "source": [
        "\"5\"+\"there\""
      ]
    },
    {
      "cell_type": "code",
      "execution_count": null,
      "id": "e1165b0d-8bfe-4755-bb44-0804f9727a04",
      "metadata": {
        "id": "e1165b0d-8bfe-4755-bb44-0804f9727a04",
        "outputId": "af58a058-a1ef-4624-9c41-a9b3cc7a08f1"
      },
      "outputs": [
        {
          "name": "stdout",
          "output_type": "stream",
          "text": [
            "5\n"
          ]
        }
      ],
      "source": [
        "a = 5\n",
        "print(a)"
      ]
    },
    {
      "cell_type": "code",
      "execution_count": null,
      "id": "0147aa8c",
      "metadata": {
        "id": "0147aa8c",
        "outputId": "65a05813-7165-421f-ad06-fdf89483fb1d"
      },
      "outputs": [
        {
          "name": "stdout",
          "output_type": "stream",
          "text": [
            "hi\n"
          ]
        }
      ],
      "source": [
        "a='hi'\n",
        "print(a)"
      ]
    },
    {
      "cell_type": "code",
      "execution_count": null,
      "id": "1fd6e835",
      "metadata": {
        "id": "1fd6e835",
        "outputId": "2528f384-f7d9-414a-dd7a-9117241b2383",
        "colab": {
          "base_uri": "https://localhost:8080/"
        }
      },
      "outputs": [
        {
          "output_type": "stream",
          "name": "stdout",
          "text": [
            "101\n"
          ]
        }
      ],
      "source": [
        "A='10'\n",
        "A=A+'1'\n",
        "print(A)"
      ]
    },
    {
      "cell_type": "code",
      "source": [
        "A=10\n",
        "A=A+1\n",
        "print(A)"
      ],
      "metadata": {
        "id": "rEHX7vwIO89K",
        "outputId": "88cc66f7-ef27-4480-be00-96d76c025f26",
        "colab": {
          "base_uri": "https://localhost:8080/"
        }
      },
      "id": "rEHX7vwIO89K",
      "execution_count": null,
      "outputs": [
        {
          "output_type": "stream",
          "name": "stdout",
          "text": [
            "11\n"
          ]
        }
      ]
    },
    {
      "cell_type": "code",
      "source": [
        "A='10'\n",
        "B=A+'1'\n",
        "print(A)\n",
        "print(B)\n",
        "C= int(A)+int(B)\n",
        "print(C)"
      ],
      "metadata": {
        "id": "Dgco19N5PGhg",
        "outputId": "f39c3fd2-16e2-416b-fc82-d13750553cc0",
        "colab": {
          "base_uri": "https://localhost:8080/"
        }
      },
      "id": "Dgco19N5PGhg",
      "execution_count": null,
      "outputs": [
        {
          "output_type": "stream",
          "name": "stdout",
          "text": [
            "10\n",
            "101\n",
            "111\n"
          ]
        }
      ]
    },
    {
      "cell_type": "code",
      "source": [
        "print(\"knight's\")"
      ],
      "metadata": {
        "id": "YeqdvlyWPKNR",
        "outputId": "aa035d14-2b50-4c4c-fab2-3a717668fc73",
        "colab": {
          "base_uri": "https://localhost:8080/"
        }
      },
      "id": "YeqdvlyWPKNR",
      "execution_count": 1,
      "outputs": [
        {
          "output_type": "stream",
          "name": "stdout",
          "text": [
            "knight's\n"
          ]
        }
      ]
    },
    {
      "cell_type": "code",
      "source": [
        "print('knight\"s')"
      ],
      "metadata": {
        "id": "okANVfi8aQv_",
        "outputId": "498ed345-aa4a-46f1-f8fa-27a8a0da5a66",
        "colab": {
          "base_uri": "https://localhost:8080/"
        }
      },
      "id": "okANVfi8aQv_",
      "execution_count": 2,
      "outputs": [
        {
          "output_type": "stream",
          "name": "stdout",
          "text": [
            "knight\"s\n"
          ]
        }
      ]
    },
    {
      "cell_type": "code",
      "source": [
        "a=\"How are u?\"\n",
        "len(a)"
      ],
      "metadata": {
        "id": "2Ybk_bWaaU4V",
        "outputId": "926528cb-5e2d-42fa-cf09-2c0aceaaf3ca",
        "colab": {
          "base_uri": "https://localhost:8080/"
        }
      },
      "id": "2Ybk_bWaaU4V",
      "execution_count": 3,
      "outputs": [
        {
          "output_type": "execute_result",
          "data": {
            "text/plain": [
              "10"
            ]
          },
          "metadata": {},
          "execution_count": 3
        }
      ]
    },
    {
      "cell_type": "code",
      "source": [
        "print(a+a)"
      ],
      "metadata": {
        "id": "1wmV56wHaXYd",
        "outputId": "7f02ac69-dae2-4fba-aa86-225db2d7972a",
        "colab": {
          "base_uri": "https://localhost:8080/"
        }
      },
      "id": "1wmV56wHaXYd",
      "execution_count": 4,
      "outputs": [
        {
          "output_type": "stream",
          "name": "stdout",
          "text": [
            "How are u?How are u?\n"
          ]
        }
      ]
    },
    {
      "cell_type": "code",
      "source": [
        "print(a*4)"
      ],
      "metadata": {
        "id": "Mrnl3iOpaaDs",
        "outputId": "7ac051b5-9670-4d22-a1dc-00dd38b1dbd3",
        "colab": {
          "base_uri": "https://localhost:8080/"
        }
      },
      "id": "Mrnl3iOpaaDs",
      "execution_count": 5,
      "outputs": [
        {
          "output_type": "stream",
          "name": "stdout",
          "text": [
            "How are u?How are u?How are u?How are u?\n"
          ]
        }
      ]
    },
    {
      "cell_type": "code",
      "source": [
        "List=[1,'a',2,4]\n",
        "print(List)\n",
        "print(List[1])\n",
        "List[2]=7\n",
        "print(List)"
      ],
      "metadata": {
        "id": "wWRDDiDMamJc",
        "outputId": "caa4261b-8250-4c8f-dcc5-e81b05477af5",
        "colab": {
          "base_uri": "https://localhost:8080/"
        }
      },
      "id": "wWRDDiDMamJc",
      "execution_count": 6,
      "outputs": [
        {
          "output_type": "stream",
          "name": "stdout",
          "text": [
            "[1, 'a', 2, 4]\n",
            "a\n",
            "[1, 'a', 7, 4]\n"
          ]
        }
      ]
    },
    {
      "cell_type": "markdown",
      "source": [
        "# Mutable"
      ],
      "metadata": {
        "id": "92TOxbaAazVi"
      },
      "id": "92TOxbaAazVi"
    },
    {
      "cell_type": "code",
      "source": [
        "T=('a',3,\"How r u?\")\n",
        "T[1]=4\n",
        "print(T)"
      ],
      "metadata": {
        "id": "vJXoWG73atcl",
        "outputId": "e984582d-4659-4dde-8505-062fd03710f3",
        "colab": {
          "base_uri": "https://localhost:8080/",
          "height": 200
        }
      },
      "id": "vJXoWG73atcl",
      "execution_count": 7,
      "outputs": [
        {
          "output_type": "error",
          "ename": "TypeError",
          "evalue": "ignored",
          "traceback": [
            "\u001b[0;31m---------------------------------------------------------------------------\u001b[0m",
            "\u001b[0;31mTypeError\u001b[0m                                 Traceback (most recent call last)",
            "\u001b[0;32m<ipython-input-7-17a01992cd15>\u001b[0m in \u001b[0;36m<module>\u001b[0;34m()\u001b[0m\n\u001b[1;32m      1\u001b[0m \u001b[0mT\u001b[0m\u001b[0;34m=\u001b[0m\u001b[0;34m(\u001b[0m\u001b[0;34m'a'\u001b[0m\u001b[0;34m,\u001b[0m\u001b[0;36m3\u001b[0m\u001b[0;34m,\u001b[0m\u001b[0;34m\"How r u?\"\u001b[0m\u001b[0;34m)\u001b[0m\u001b[0;34m\u001b[0m\u001b[0;34m\u001b[0m\u001b[0m\n\u001b[0;32m----> 2\u001b[0;31m \u001b[0mT\u001b[0m\u001b[0;34m[\u001b[0m\u001b[0;36m1\u001b[0m\u001b[0;34m]\u001b[0m\u001b[0;34m=\u001b[0m\u001b[0;36m4\u001b[0m\u001b[0;34m\u001b[0m\u001b[0;34m\u001b[0m\u001b[0m\n\u001b[0m\u001b[1;32m      3\u001b[0m \u001b[0mprint\u001b[0m\u001b[0;34m(\u001b[0m\u001b[0mT\u001b[0m\u001b[0;34m)\u001b[0m\u001b[0;34m\u001b[0m\u001b[0;34m\u001b[0m\u001b[0m\n",
            "\u001b[0;31mTypeError\u001b[0m: 'tuple' object does not support item assignment"
          ]
        }
      ]
    },
    {
      "cell_type": "markdown",
      "source": [
        "## Immutable"
      ],
      "metadata": {
        "id": "jWHSNeluawRN"
      },
      "id": "jWHSNeluawRN"
    },
    {
      "cell_type": "code",
      "source": [
        "T=('a',3,\"How r u?\")\n",
        "print(T)"
      ],
      "metadata": {
        "id": "ByaNqaUaau4i",
        "outputId": "b451643a-ce8f-4ab3-c067-8043ca62f9b4",
        "colab": {
          "base_uri": "https://localhost:8080/"
        }
      },
      "id": "ByaNqaUaau4i",
      "execution_count": 8,
      "outputs": [
        {
          "output_type": "stream",
          "name": "stdout",
          "text": [
            "('a', 3, 'How r u?')\n"
          ]
        }
      ]
    },
    {
      "cell_type": "code",
      "source": [
        "A={'a':1,'b':4,'c':6,'d':3}\n",
        "A['b']\n",
        "A['d']"
      ],
      "metadata": {
        "id": "z4ERrPiNbH5Q",
        "outputId": "751fa623-f023-4c3b-e8da-53c7b6ceb816",
        "colab": {
          "base_uri": "https://localhost:8080/"
        }
      },
      "id": "z4ERrPiNbH5Q",
      "execution_count": 9,
      "outputs": [
        {
          "output_type": "execute_result",
          "data": {
            "text/plain": [
              "3"
            ]
          },
          "metadata": {},
          "execution_count": 9
        }
      ]
    },
    {
      "cell_type": "code",
      "source": [
        "A={'a':1,'b':4,'c':6,'d':3}\n",
        "print(A['b'])\n",
        "print(A['d'])"
      ],
      "metadata": {
        "id": "2zI9L2iDbKkP",
        "outputId": "7e4e8050-5444-44f1-f8b1-bdafdc507188",
        "colab": {
          "base_uri": "https://localhost:8080/"
        }
      },
      "id": "2zI9L2iDbKkP",
      "execution_count": 10,
      "outputs": [
        {
          "output_type": "stream",
          "name": "stdout",
          "text": [
            "4\n",
            "3\n"
          ]
        }
      ]
    },
    {
      "cell_type": "code",
      "source": [
        "A='10'\n",
        "type(A)"
      ],
      "metadata": {
        "id": "-sujpo3MbNQf",
        "outputId": "de819ee1-47c0-4cc3-cf90-a0e96317430f",
        "colab": {
          "base_uri": "https://localhost:8080/"
        }
      },
      "id": "-sujpo3MbNQf",
      "execution_count": 11,
      "outputs": [
        {
          "output_type": "execute_result",
          "data": {
            "text/plain": [
              "str"
            ]
          },
          "metadata": {},
          "execution_count": 11
        }
      ]
    },
    {
      "cell_type": "code",
      "source": [
        "c=int(A)\n",
        "type(c)"
      ],
      "metadata": {
        "id": "aMrYMuAZbRKU",
        "outputId": "217d4454-3395-4710-f967-bc7203ff9b51",
        "colab": {
          "base_uri": "https://localhost:8080/"
        }
      },
      "id": "aMrYMuAZbRKU",
      "execution_count": 12,
      "outputs": [
        {
          "output_type": "execute_result",
          "data": {
            "text/plain": [
              "int"
            ]
          },
          "metadata": {},
          "execution_count": 12
        }
      ]
    },
    {
      "cell_type": "code",
      "source": [
        "a=33\n",
        "b=200"
      ],
      "metadata": {
        "id": "xAahrikobUIJ"
      },
      "id": "xAahrikobUIJ",
      "execution_count": 13,
      "outputs": []
    },
    {
      "cell_type": "code",
      "source": [
        "if b>a:\n",
        "    print(\"B is greater than a\")\n",
        "    a+=200\n",
        "print(a)"
      ],
      "metadata": {
        "id": "4PskKcOObXg6",
        "outputId": "b89f8d72-e641-4e06-d10f-9ff1ae19155b",
        "colab": {
          "base_uri": "https://localhost:8080/"
        }
      },
      "id": "4PskKcOObXg6",
      "execution_count": 14,
      "outputs": [
        {
          "output_type": "stream",
          "name": "stdout",
          "text": [
            "B is greater than a\n",
            "233\n"
          ]
        }
      ]
    },
    {
      "cell_type": "code",
      "source": [
        "if b>a:\n",
        "    print(\"B is greater than a\")\n",
        "    a+=200\n",
        "print(a)"
      ],
      "metadata": {
        "id": "1tDNTuShbacK",
        "outputId": "09e88d5b-2110-4cf1-c275-44df413287ba",
        "colab": {
          "base_uri": "https://localhost:8080/"
        }
      },
      "id": "1tDNTuShbacK",
      "execution_count": 15,
      "outputs": [
        {
          "output_type": "stream",
          "name": "stdout",
          "text": [
            "233\n"
          ]
        }
      ]
    },
    {
      "cell_type": "markdown",
      "source": [
        "## at 1st print will be printed since b>a, but if we run it again print will not be printed bcoz a is now incremented to 233"
      ],
      "metadata": {
        "id": "VRVidVYebhbi"
      },
      "id": "VRVidVYebhbi"
    },
    {
      "cell_type": "code",
      "source": [
        ""
      ],
      "metadata": {
        "id": "gDZdD3zwbfwN"
      },
      "id": "gDZdD3zwbfwN",
      "execution_count": null,
      "outputs": []
    }
  ],
  "metadata": {
    "kernelspec": {
      "display_name": "Python 3 (ipykernel)",
      "language": "python",
      "name": "python3"
    },
    "language_info": {
      "codemirror_mode": {
        "name": "ipython",
        "version": 3
      },
      "file_extension": ".py",
      "mimetype": "text/x-python",
      "name": "python",
      "nbconvert_exporter": "python",
      "pygments_lexer": "ipython3",
      "version": "3.8.12"
    },
    "colab": {
      "name": "1st program.ipynb",
      "provenance": [],
      "include_colab_link": true
    }
  },
  "nbformat": 4,
  "nbformat_minor": 5
}