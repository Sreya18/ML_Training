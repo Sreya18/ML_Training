{
  "cells": [
    {
      "cell_type": "markdown",
      "metadata": {
        "id": "view-in-github",
        "colab_type": "text"
      },
      "source": [
        "<a href=\"https://colab.research.google.com/github/Sreya18/ML_Training/blob/main/Demo/Assignment_2.ipynb\" target=\"_parent\"><img src=\"https://colab.research.google.com/assets/colab-badge.svg\" alt=\"Open In Colab\"/></a>"
      ]
    },
    {
      "cell_type": "code",
      "execution_count": null,
      "id": "5b9900ad",
      "metadata": {
        "id": "5b9900ad",
        "outputId": "65687cf6-7900-4a57-cec4-b004a29d6f83"
      },
      "outputs": [
        {
          "name": "stdout",
          "output_type": "stream",
          "text": [
            "Enter a number n: 15\n",
            "\n",
            "Table of 15\n",
            "\n",
            "15 * 1 = 15\n",
            "15 * 2 = 30\n",
            "15 * 3 = 45\n",
            "15 * 4 = 60\n",
            "15 * 5 = 75\n",
            "15 * 6 = 90\n",
            "15 * 7 = 105\n",
            "15 * 8 = 120\n",
            "15 * 9 = 135\n",
            "15 * 10 = 150\n"
          ]
        }
      ],
      "source": [
        "# WAP to print table of n, where n is entered by the user.\n",
        "\n",
        "def table(n):\n",
        "    print(\"\\nTable of %d\\n\"%n)\n",
        "    for i in range(1,11):\n",
        "        print(\"%d * %d = %d\" %(n,i,n*i))\n",
        "def main():\n",
        "    n = input(\"Enter a number n: \")\n",
        "    if (n.isdigit()==True):\n",
        "        n=int(n)\n",
        "        table(n)\n",
        "    else:\n",
        "        print(\"I/P not a number\")\n",
        "main()"
      ]
    },
    {
      "cell_type": "code",
      "execution_count": null,
      "id": "045b6a05",
      "metadata": {
        "id": "045b6a05",
        "outputId": "6f6c25c8-eb97-4817-c691-d88fdc8397ad"
      },
      "outputs": [
        {
          "name": "stdout",
          "output_type": "stream",
          "text": [
            "Enter a number n: 4\n",
            "Sum = 10.\n"
          ]
        }
      ],
      "source": [
        "# WAP to print sum of n natural numbers, where n is entered by the user.\n",
        "\n",
        "def Sum_NaturalNo(n):\n",
        "    Sum=0\n",
        "    for i in range(1,n+1):\n",
        "        Sum+=i\n",
        "    print(\"Sum = %d.\"%Sum)\n",
        "def main():\n",
        "    n = input(\"Enter a number n: \")\n",
        "    if (n.isdigit()==True):\n",
        "        n=int(n)\n",
        "        Sum_NaturalNo(n)\n",
        "    else:\n",
        "        print(\"I/P not a number\")\n",
        "main()"
      ]
    },
    {
      "cell_type": "code",
      "execution_count": null,
      "id": "9de81d99",
      "metadata": {
        "id": "9de81d99",
        "outputId": "e20a181e-6d89-4967-81ff-51773ff720d6"
      },
      "outputs": [
        {
          "name": "stdout",
          "output_type": "stream",
          "text": [
            "Enter a number n: 6\n",
            "Factorial = 720.\n"
          ]
        }
      ],
      "source": [
        "# WAP to print the factorial of the given number, where number is entered by the user. \n",
        "\n",
        "def factorial(n):\n",
        "    fact=1\n",
        "    for i in range(n,0,-1):\n",
        "        fact*=i\n",
        "    print(\"Factorial = %d.\"%fact)\n",
        "def main():\n",
        "    n = input(\"Enter a number n: \")\n",
        "    if (n.isdigit()==True):\n",
        "        n=int(n)\n",
        "        factorial(n)\n",
        "    else:\n",
        "        print(\"I/P not a number\")\n",
        "main()"
      ]
    },
    {
      "cell_type": "code",
      "execution_count": null,
      "id": "1409e77f",
      "metadata": {
        "id": "1409e77f",
        "outputId": "a5b3fa06-f798-4fb9-e1e2-371d761b09ee"
      },
      "outputs": [
        {
          "name": "stdout",
          "output_type": "stream",
          "text": [
            "Enter sales of the month: 345.7\n",
            "To Continue press 1 else 0: 1\n",
            "Enter sales of the month: 4567\n",
            "To Continue press 1 else 0: 1\n",
            "Enter sales of the month: 646.98\n",
            "To Continue press 1 else 0: 0\n",
            "Average sales= 1853.23\n"
          ]
        }
      ],
      "source": [
        "# WAP to input sales of the month and calculate the average sales of that month.\n",
        " \n",
        "cnt=1\n",
        "count=0\n",
        "Sum=0\n",
        "while cnt==1:\n",
        "    sales = float(input(\"Enter sales of the month: \"))\n",
        "    Sum+=sales\n",
        "    count+=1\n",
        "    cnt=int(input(\"To Continue press 1 else 0: \"))\n",
        "print(\"Average sales= %5.2f\" %(Sum/count))"
      ]
    },
    {
      "cell_type": "code",
      "execution_count": null,
      "id": "4f139956",
      "metadata": {
        "id": "4f139956",
        "outputId": "d98cb0f4-3b0c-4132-98ed-53ba5f90291b"
      },
      "outputs": [
        {
          "name": "stdout",
          "output_type": "stream",
          "text": [
            "Enter a number n: 10\n",
            "\n",
            "Natural nos from 1 to 10\n",
            "1\n",
            "2\n",
            "3\n",
            "4\n",
            "5\n",
            "6\n",
            "7\n",
            "8\n",
            "9\n",
            "10\n"
          ]
        }
      ],
      "source": [
        "# WAP to print natural numbers from 1 to n, n is entered by the user.\n",
        "\n",
        "def print_NaturalNo(n):\n",
        "    print(\"\\nNatural nos from 1 to %d\" %n)\n",
        "    for i in range(1,n+1):\n",
        "        print(\"%d\" %i)\n",
        "def main():\n",
        "    n = input(\"Enter a number n: \")\n",
        "    if (n.isdigit()==True):\n",
        "        n=int(n)\n",
        "        print_NaturalNo(n)\n",
        "    else:\n",
        "        print(\"I/P not a number\")\n",
        "main()"
      ]
    },
    {
      "cell_type": "code",
      "execution_count": null,
      "id": "4600fce2",
      "metadata": {
        "id": "4600fce2"
      },
      "outputs": [],
      "source": [
        ""
      ]
    }
  ],
  "metadata": {
    "kernelspec": {
      "display_name": "Python 3 (ipykernel)",
      "language": "python",
      "name": "python3"
    },
    "language_info": {
      "codemirror_mode": {
        "name": "ipython",
        "version": 3
      },
      "file_extension": ".py",
      "mimetype": "text/x-python",
      "name": "python",
      "nbconvert_exporter": "python",
      "pygments_lexer": "ipython3",
      "version": "3.8.12"
    },
    "colab": {
      "name": "Assignment-2.ipynb",
      "provenance": [],
      "include_colab_link": true
    }
  },
  "nbformat": 4,
  "nbformat_minor": 5
}