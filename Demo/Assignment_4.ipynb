{
  "cells": [
    {
      "cell_type": "markdown",
      "metadata": {
        "id": "view-in-github",
        "colab_type": "text"
      },
      "source": [
        "<a href=\"https://colab.research.google.com/github/Sreya18/ML_Training/blob/main/Demo/Assignment_4.ipynb\" target=\"_parent\"><img src=\"https://colab.research.google.com/assets/colab-badge.svg\" alt=\"Open In Colab\"/></a>"
      ]
    },
    {
      "cell_type": "code",
      "execution_count": null,
      "id": "df98552e",
      "metadata": {
        "id": "df98552e",
        "outputId": "c3cb0398-d864-4269-e891-36ebab5ef48f"
      },
      "outputs": [
        {
          "name": "stdout",
          "output_type": "stream",
          "text": [
            "O\n"
          ]
        }
      ],
      "source": [
        "# WAP to print only \"O\" in \"HELLO\"\n",
        "\n",
        "fileObj=open(\"test.txt\")\n",
        "lines=fileObj.readlines()\n",
        "for line in lines:\n",
        "    l=line.rstrip().upper()\n",
        "    if l=='HELLO':\n",
        "        m=list(l)\n",
        "        for i in m:\n",
        "            if i=='O':\n",
        "                print(i)"
      ]
    },
    {
      "cell_type": "code",
      "execution_count": null,
      "id": "cd56c274",
      "metadata": {
        "id": "cd56c274",
        "outputId": "ec819044-6608-4309-af50-feb47dc434c0"
      },
      "outputs": [
        {
          "name": "stdout",
          "output_type": "stream",
          "text": [
            "I\n"
          ]
        }
      ],
      "source": [
        "# WAP to print only \"I\" in \"I AM SREYA\"\n",
        "\n",
        "fileObj=open(\"test.txt\")\n",
        "lines=fileObj.readlines()\n",
        "for line in lines:\n",
        "    l=line.rstrip().upper()\n",
        "    if l=='I AM SREYA':\n",
        "        m=l.split(\" \")\n",
        "        for i in m:\n",
        "            if i=='I':\n",
        "                print(i)"
      ]
    }
  ],
  "metadata": {
    "kernelspec": {
      "display_name": "Python 3 (ipykernel)",
      "language": "python",
      "name": "python3"
    },
    "language_info": {
      "codemirror_mode": {
        "name": "ipython",
        "version": 3
      },
      "file_extension": ".py",
      "mimetype": "text/x-python",
      "name": "python",
      "nbconvert_exporter": "python",
      "pygments_lexer": "ipython3",
      "version": "3.8.12"
    },
    "colab": {
      "name": "Assignment-4.ipynb",
      "provenance": [],
      "include_colab_link": true
    }
  },
  "nbformat": 4,
  "nbformat_minor": 5
}