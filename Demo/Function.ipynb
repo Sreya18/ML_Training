{
  "cells": [
    {
      "cell_type": "markdown",
      "metadata": {
        "id": "view-in-github",
        "colab_type": "text"
      },
      "source": [
        "<a href=\"https://colab.research.google.com/github/Sreya18/ML_Training/blob/main/Demo/Function.ipynb\" target=\"_parent\"><img src=\"https://colab.research.google.com/assets/colab-badge.svg\" alt=\"Open In Colab\"/></a>"
      ]
    },
    {
      "cell_type": "code",
      "execution_count": null,
      "id": "e826b4d6",
      "metadata": {
        "id": "e826b4d6",
        "outputId": "deb9d172-5831-41de-fd3b-6700e53b48d9"
      },
      "outputs": [
        {
          "name": "stdout",
          "output_type": "stream",
          "text": [
            "num is :  10\n",
            "abc inside function is :  10\n",
            "abc outside function is :  5\n",
            "3.0\n"
          ]
        }
      ],
      "source": [
        "abc=5\n",
        "def average(prices, abc):\n",
        "    total = 0 \n",
        "    print('num is : ',num)\n",
        "    print('abc inside function is : ',abc)\n",
        "    for price in prices: \n",
        "        total = total + price \n",
        "    avg = total/len(prices)\n",
        "    return avg\n",
        "numbers = [1,2,3,4,5]\n",
        "num = 10 \n",
        "my_average = average(numbers, num)\n",
        "print('abc outside function is : ',abc)\n",
        "print(my_average) "
      ]
    },
    {
      "cell_type": "code",
      "execution_count": null,
      "id": "5fd4cd65",
      "metadata": {
        "id": "5fd4cd65",
        "outputId": "675bdcb5-82e2-4fe8-de1d-ea93c52793e2"
      },
      "outputs": [
        {
          "name": "stdout",
          "output_type": "stream",
          "text": [
            "25\n",
            "28.75\n"
          ]
        }
      ],
      "source": [
        "order_goal = 25\n",
        "def average(numbers):\n",
        "    total = 0\n",
        "    for num in numbers:\n",
        "        total = total + num\n",
        "    avg = total/len(numbers)\n",
        "    return avg\n",
        "def main():\n",
        "    prices = [29, 21, 55, 10]\n",
        "    result = average(prices)\n",
        "    print(order_goal)\n",
        "    print(result)\n",
        "main()"
      ]
    },
    {
      "cell_type": "code",
      "execution_count": null,
      "id": "6dc443f4",
      "metadata": {
        "id": "6dc443f4",
        "outputId": "cd2158d6-62fe-411d-c120-9c52cdb1b7ff"
      },
      "outputs": [
        {
          "name": "stdout",
          "output_type": "stream",
          "text": [
            "3.0\n",
            "6\n"
          ]
        }
      ],
      "source": [
        "x = abs(-3.0)\n",
        "print(x)\n",
        "\n",
        "l = len(\"ABCDEF\")\n",
        "print(l)"
      ]
    },
    {
      "cell_type": "code",
      "execution_count": null,
      "id": "92f20977",
      "metadata": {
        "id": "92f20977",
        "outputId": "ef2a9cb7-f673-4480-dad9-4a46fa0b793c"
      },
      "outputs": [
        {
          "name": "stdout",
          "output_type": "stream",
          "text": [
            "Hello world!\n"
          ]
        }
      ],
      "source": [
        "def sayHello():\n",
        "    print('Hello world!')\n",
        "    \n",
        "sayHello()"
      ]
    },
    {
      "cell_type": "code",
      "execution_count": null,
      "id": "7c6550d2",
      "metadata": {
        "id": "7c6550d2",
        "outputId": "03b7100f-50fb-4a7b-9f10-68983be35851"
      },
      "outputs": [
        {
          "name": "stdout",
          "output_type": "stream",
          "text": [
            "Hello Sreya\n"
          ]
        }
      ],
      "source": [
        "def sayHello(name):\n",
        "    print('Hello', name)\n",
        "sayHello('Sreya')"
      ]
    },
    {
      "cell_type": "code",
      "execution_count": null,
      "id": "9c5f74b6",
      "metadata": {
        "id": "9c5f74b6",
        "outputId": "e03eaccf-9b58-4a2e-e96f-00aa03038aaf"
      },
      "outputs": [
        {
          "name": "stdout",
          "output_type": "stream",
          "text": [
            "Hello Sreya!\n"
          ]
        }
      ],
      "source": [
        "def sayHello(name):\n",
        "    print('Hello', name)\n",
        "text = 'Sreya!'\n",
        "sayHello(text) "
      ]
    },
    {
      "cell_type": "code",
      "execution_count": null,
      "id": "43e626a9",
      "metadata": {
        "id": "43e626a9",
        "outputId": "71db4211-0cb1-4442-b770-b19a171462e3"
      },
      "outputs": [
        {
          "name": "stdout",
          "output_type": "stream",
          "text": [
            "49\n"
          ]
        }
      ],
      "source": [
        "def square(x):\n",
        "  y = x*x\n",
        "  return y\n",
        "number = 7\n",
        "result = square(number) \n",
        "print(result)\n"
      ]
    },
    {
      "cell_type": "code",
      "execution_count": null,
      "id": "90fef225",
      "metadata": {
        "id": "90fef225",
        "outputId": "4fa85828-5e49-4fec-fa57-21c0fc7f8362"
      },
      "outputs": [
        {
          "name": "stdout",
          "output_type": "stream",
          "text": [
            "1.4399999999999998e-06\n"
          ]
        }
      ],
      "source": [
        "print(square(1.2e-3))"
      ]
    },
    {
      "cell_type": "code",
      "execution_count": null,
      "id": "eec71c94",
      "metadata": {
        "id": "eec71c94",
        "outputId": "14504505-bcb9-442c-cc7e-e4ad3d2586db"
      },
      "outputs": [
        {
          "name": "stdout",
          "output_type": "stream",
          "text": [
            "5.999396\n"
          ]
        }
      ],
      "source": [
        "def calcFunc(x, y):\n",
        "  z = x*x + y*y\n",
        "  return z\n",
        "\n",
        "result = calcFunc(1.414, 2.0)\n",
        "print(result) "
      ]
    },
    {
      "cell_type": "code",
      "execution_count": null,
      "id": "64ea0712",
      "metadata": {
        "id": "64ea0712"
      },
      "outputs": [],
      "source": [
        "def calcDistance(vec1, vec2):    \n",
        "    dist = 0\n",
        "    for i in range(len(vec1)):\n",
        "        delta = vec1[i] - vec2[i]\n",
        "        dist += delta*delta\n",
        "    dist = dist**(1/2) # square-root\n",
        "    return dist"
      ]
    },
    {
      "cell_type": "code",
      "execution_count": null,
      "id": "61fa26d4",
      "metadata": {
        "id": "61fa26d4",
        "outputId": "dd80c320-2e78-4a12-a952-ba0b269b7660"
      },
      "outputs": [
        {
          "name": "stdout",
          "output_type": "stream",
          "text": [
            "19.914567532336726\n"
          ]
        }
      ],
      "source": [
        "w1 = ( 23.1, 17.8, -5.6 )\n",
        "w2 = ( 8.4, 15.9, 7.7 )\n",
        "print(calcDistance( w1, w2 ))"
      ]
    },
    {
      "cell_type": "code",
      "execution_count": null,
      "id": "12681c6c",
      "metadata": {
        "id": "12681c6c",
        "outputId": "19611cc4-1e52-49aa-b991-b9a66983386d"
      },
      "outputs": [
        {
          "name": "stdout",
          "output_type": "stream",
          "text": [
            "2.8284271247461903\n",
            "2.8284271247461903\n",
            "2.8284271247461903\n"
          ]
        }
      ],
      "source": [
        "print(calcDistance( ( 1, 2 ), ( 3, 4 ) )) # dimension: 2\n",
        "\n",
        "print(calcDistance( [ 1, 2 ], [ 3, 4 ] )) # vectors represented as lists\n",
        "\n",
        "print(calcDistance( ( 1, 2 ), [ 3, 4 ] )) # mixed representation"
      ]
    },
    {
      "cell_type": "code",
      "execution_count": null,
      "id": "eefa172c",
      "metadata": {
        "id": "eefa172c",
        "outputId": "b47ec342-826b-4116-932a-2f5273978f3e"
      },
      "outputs": [
        {
          "name": "stdout",
          "output_type": "stream",
          "text": [
            "getSign( 33.6 ): Positive\n",
            "getSign( -7 ): Negative\n",
            "getSign( 0 ): None\n"
          ]
        }
      ],
      "source": [
        "def getSign(value):\n",
        "    \n",
        "    if value > 0:\n",
        "        return \"Positive\"\n",
        "    \n",
        "    elif value < 0:\n",
        "        return \"Negative\"\n",
        "    \n",
        "    return # implicit 'None'\n",
        "\n",
        "    print(\"Hello world\") # execution does not reach this line\n",
        "    \n",
        "print(\"getSign( 33.6 ):\", getSign( 33.6 ))\n",
        "print(\"getSign( -7 ):\", getSign( -7 ))\n",
        "print(\"getSign( 0 ):\", getSign( 0 ))"
      ]
    },
    {
      "cell_type": "code",
      "execution_count": null,
      "id": "e942d486",
      "metadata": {
        "id": "e942d486",
        "outputId": "93b05128-9bf7-415b-e00c-c3928819677f"
      },
      "outputs": [
        {
          "name": "stdout",
          "output_type": "stream",
          "text": [
            "Results as a tuple: (10, -4, 21)\n",
            "x: 10\n",
            "y: -4\n",
            "z: 21\n"
          ]
        }
      ],
      "source": [
        "def myFunction(value1, value2):\n",
        "    \n",
        "    total = value1 + value2\n",
        "    difference = value1 - value2\n",
        "    product = value1 * value2\n",
        "    \n",
        "    return total, difference, product\n",
        "\n",
        "values = myFunction( 3, 7 )  # Grab output as a whole tuple\n",
        "print(\"Results as a tuple:\", values)\n",
        "\n",
        "x, y, z = myFunction( 3, 7 ) # Unpack tuple to grab individual values\n",
        "print(\"x:\", x)\n",
        "print(\"y:\", y)\n",
        "print(\"z:\", z)"
      ]
    },
    {
      "cell_type": "code",
      "execution_count": null,
      "id": "8e17ffa9",
      "metadata": {
        "id": "8e17ffa9",
        "outputId": "77d92990-6d3c-46a0-8bb3-01b28563d419"
      },
      "outputs": [
        {
          "name": "stdout",
          "output_type": "stream",
          "text": [
            "4\n",
            "9\n"
          ]
        }
      ],
      "source": [
        "def square(number):\n",
        "    # one mandatory argument\n",
        "    y = number*number\n",
        "    return y\n",
        "print(square(2))\n",
        "print(square(number=3))"
      ]
    },
    {
      "cell_type": "code",
      "execution_count": null,
      "id": "d21277fb",
      "metadata": {
        "id": "d21277fb",
        "outputId": "aa25f952-1528-4a80-dc0c-bd8c3a0372d1"
      },
      "outputs": [
        {
          "name": "stdout",
          "output_type": "stream",
          "text": [
            "abcabcabc\n",
            "XYZXYZXYZXYZ\n"
          ]
        }
      ],
      "source": [
        "def repeat(seq, n):\n",
        "    # two mandatory arguments\n",
        "    result = ''\n",
        "    for i in range(0,n):\n",
        "        result += seq\n",
        "    return result\n",
        "\n",
        "print(repeat(\"abc\", 3))\n",
        "print(repeat(n=4, seq=\"XYZ\"))"
      ]
    },
    {
      "cell_type": "code",
      "execution_count": null,
      "id": "0d066662",
      "metadata": {
        "id": "0d066662",
        "outputId": "c084cf95-5e40-401a-a824-de4757bf3b30"
      },
      "outputs": [
        {
          "name": "stdout",
          "output_type": "stream",
          "text": [
            "Running simulation for 500 steps\n",
            "Running simulation for 1000 steps\n"
          ]
        }
      ],
      "source": [
        "def runSimulation(nsteps=1000):\n",
        "    print(\"Running simulation for\", nsteps, \"steps\")\n",
        "\n",
        "runSimulation(500)\n",
        "runSimulation()"
      ]
    },
    {
      "cell_type": "code",
      "execution_count": null,
      "id": "ab31bafa",
      "metadata": {
        "id": "ab31bafa",
        "outputId": "90b26ab1-e1ef-4f4d-889f-ac7da70c972d"
      },
      "outputs": [
        {
          "name": "stdout",
          "output_type": "stream",
          "text": [
            "Running simulation starting at 300 K and doing 500 steps\n",
            "Running simulation starting at 300 K and doing 1000 steps\n"
          ]
        }
      ],
      "source": [
        "def runSimulation(initialTemperature, nsteps=1000):\n",
        "    # one mandatory argument followed by one with default value\n",
        "    print(\"Running simulation starting at\", initialTemperature, \"K and doing\", nsteps, \"steps\")\n",
        "    \n",
        "runSimulation(300, 500)\n",
        "runSimulation(300)"
      ]
    },
    {
      "cell_type": "code",
      "execution_count": null,
      "id": "58f6a257",
      "metadata": {
        "id": "58f6a257",
        "outputId": "15a2065e-3918-434e-ffd0-ea45e3047f2e"
      },
      "outputs": [
        {
          "name": "stdout",
          "output_type": "stream",
          "text": [
            "Running simulation starting at 300 K and doing 100 steps\n"
          ]
        }
      ],
      "source": [
        "runSimulation( nsteps=100, initialTemperature=300 )"
      ]
    },
    {
      "cell_type": "code",
      "execution_count": null,
      "id": "8f8a8c67",
      "metadata": {
        "id": "8f8a8c67",
        "outputId": "95741da5-2307-4475-ab32-8f0c137e17a5"
      },
      "outputs": [
        {
          "name": "stdout",
          "output_type": "stream",
          "text": [
            "Running simulation starting at 300 K and doing 1000 steps\n"
          ]
        }
      ],
      "source": [
        "runSimulation( initialTemperature=300 )"
      ]
    },
    {
      "cell_type": "code",
      "execution_count": null,
      "id": "5010101d",
      "metadata": {
        "id": "5010101d",
        "outputId": "6dd0b1e7-cfeb-4ce8-fd7f-dfb63c10a017"
      },
      "outputs": [
        {
          "ename": "TypeError",
          "evalue": "runSimulation() missing 1 required positional argument: 'initialTemperature'",
          "output_type": "error",
          "traceback": [
            "\u001b[1;31m---------------------------------------------------------------------------\u001b[0m",
            "\u001b[1;31mTypeError\u001b[0m                                 Traceback (most recent call last)",
            "\u001b[1;32m~\\AppData\\Local\\Temp/ipykernel_3472/3110345409.py\u001b[0m in \u001b[0;36m<module>\u001b[1;34m\u001b[0m\n\u001b[1;32m----> 1\u001b[1;33m \u001b[0mrunSimulation\u001b[0m\u001b[1;33m(\u001b[0m \u001b[0mnsteps\u001b[0m\u001b[1;33m=\u001b[0m\u001b[1;36m100\u001b[0m \u001b[1;33m)\u001b[0m\u001b[1;33m\u001b[0m\u001b[1;33m\u001b[0m\u001b[0m\n\u001b[0m",
            "\u001b[1;31mTypeError\u001b[0m: runSimulation() missing 1 required positional argument: 'initialTemperature'"
          ]
        }
      ],
      "source": [
        "runSimulation( nsteps=100 )"
      ]
    },
    {
      "cell_type": "code",
      "execution_count": null,
      "id": "01bb8ec6",
      "metadata": {
        "id": "01bb8ec6",
        "outputId": "fbb4859f-4c9c-4942-c024-c28a6178e57f"
      },
      "outputs": [
        {
          "ename": "SyntaxError",
          "evalue": "positional argument follows keyword argument (Temp/ipykernel_3472/3025410382.py, line 1)",
          "output_type": "error",
          "traceback": [
            "\u001b[1;36m  File \u001b[1;32m\"C:\\Users\\KIIT\\AppData\\Local\\Temp/ipykernel_3472/3025410382.py\"\u001b[1;36m, line \u001b[1;32m1\u001b[0m\n\u001b[1;33m    runSimulation( nsteps=100, 300 )\u001b[0m\n\u001b[1;37m                               ^\u001b[0m\n\u001b[1;31mSyntaxError\u001b[0m\u001b[1;31m:\u001b[0m positional argument follows keyword argument\n"
          ]
        }
      ],
      "source": [
        "runSimulation( nsteps=100, 300 )"
      ]
    },
    {
      "cell_type": "code",
      "execution_count": null,
      "id": "c480eb29",
      "metadata": {
        "id": "c480eb29",
        "outputId": "bdbe4399-6e34-4973-8e56-e295d22ccddf"
      },
      "outputs": [
        {
          "ename": "TypeError",
          "evalue": "runSimulation() got an unexpected keyword argument 'numSteps'",
          "output_type": "error",
          "traceback": [
            "\u001b[1;31m---------------------------------------------------------------------------\u001b[0m",
            "\u001b[1;31mTypeError\u001b[0m                                 Traceback (most recent call last)",
            "\u001b[1;32m~\\AppData\\Local\\Temp/ipykernel_3472/2617309608.py\u001b[0m in \u001b[0;36m<module>\u001b[1;34m\u001b[0m\n\u001b[1;32m----> 1\u001b[1;33m \u001b[0mrunSimulation\u001b[0m\u001b[1;33m(\u001b[0m \u001b[0minitialTemperature\u001b[0m\u001b[1;33m=\u001b[0m\u001b[1;36m300\u001b[0m\u001b[1;33m,\u001b[0m \u001b[0mnumSteps\u001b[0m\u001b[1;33m=\u001b[0m\u001b[1;36m100\u001b[0m \u001b[1;33m)\u001b[0m\u001b[1;33m\u001b[0m\u001b[1;33m\u001b[0m\u001b[0m\n\u001b[0m",
            "\u001b[1;31mTypeError\u001b[0m: runSimulation() got an unexpected keyword argument 'numSteps'"
          ]
        }
      ],
      "source": [
        "runSimulation( initialTemperature=300, numSteps=100 )"
      ]
    },
    {
      "cell_type": "code",
      "execution_count": null,
      "id": "4444e499",
      "metadata": {
        "id": "4444e499",
        "outputId": "b469f727-cd13-483c-dbf6-5814631b7e7a"
      },
      "outputs": [
        {
          "name": "stdout",
          "output_type": "stream",
          "text": [
            "[100]\n",
            "[100, 100]\n",
            "[100, 100, 100]\n",
            "[100]\n",
            "[100]\n",
            "[100]\n"
          ]
        }
      ],
      "source": [
        "def myFunction(parameters=[]):\n",
        "    parameters.append( 100 )\n",
        "    print(parameters)\n",
        "    \n",
        "myFunction()\n",
        "myFunction()\n",
        "myFunction()\n",
        "myFunction([])\n",
        "myFunction([])\n",
        "myFunction([])"
      ]
    },
    {
      "cell_type": "code",
      "execution_count": null,
      "id": "dd193f48",
      "metadata": {
        "id": "dd193f48",
        "outputId": "5f664e31-cf58-413e-8db4-68947f9d4f29"
      },
      "outputs": [
        {
          "name": "stdout",
          "output_type": "stream",
          "text": [
            "[100]\n",
            "[100, 100]\n",
            "[100, 100, 100]\n",
            "[100]\n"
          ]
        }
      ],
      "source": [
        "def myFunction(parameters):\n",
        "    # one mandatory argument without default value\n",
        "    parameters.append( 100 )\n",
        "    print(parameters)\n",
        "    \n",
        "my_list = []\n",
        "myFunction(my_list)\n",
        "myFunction(my_list)\n",
        "myFunction(my_list)\n",
        "my_new_list = []\n",
        "myFunction(my_new_list)"
      ]
    },
    {
      "cell_type": "code",
      "execution_count": null,
      "id": "7f35db1b",
      "metadata": {
        "id": "7f35db1b",
        "outputId": "46ba5aa7-4ca6-4a4a-9a65-3b23a99042b9"
      },
      "outputs": [
        {
          "name": "stdout",
          "output_type": "stream",
          "text": [
            "-33\n"
          ]
        },
        {
          "ename": "NameError",
          "evalue": "name 'math_func_result' is not defined",
          "output_type": "error",
          "traceback": [
            "\u001b[1;31m---------------------------------------------------------------------------\u001b[0m",
            "\u001b[1;31mNameError\u001b[0m                                 Traceback (most recent call last)",
            "\u001b[1;32m~\\AppData\\Local\\Temp/ipykernel_3472/1617441596.py\u001b[0m in \u001b[0;36m<module>\u001b[1;34m\u001b[0m\n\u001b[0;32m      5\u001b[0m \u001b[0mprint\u001b[0m\u001b[1;33m(\u001b[0m\u001b[0manswer\u001b[0m\u001b[1;33m)\u001b[0m\u001b[1;33m\u001b[0m\u001b[1;33m\u001b[0m\u001b[0m\n\u001b[0;32m      6\u001b[0m \u001b[0manswer\u001b[0m \u001b[1;33m=\u001b[0m \u001b[0mmathFunction\u001b[0m\u001b[1;33m(\u001b[0m \u001b[1;36m4\u001b[0m\u001b[1;33m,\u001b[0m \u001b[1;36m7\u001b[0m \u001b[1;33m)\u001b[0m\u001b[1;33m\u001b[0m\u001b[1;33m\u001b[0m\u001b[0m\n\u001b[1;32m----> 7\u001b[1;33m \u001b[0mprint\u001b[0m\u001b[1;33m(\u001b[0m\u001b[0mmath_func_result\u001b[0m\u001b[1;33m)\u001b[0m\u001b[1;33m\u001b[0m\u001b[1;33m\u001b[0m\u001b[0m\n\u001b[0m",
            "\u001b[1;31mNameError\u001b[0m: name 'math_func_result' is not defined"
          ]
        }
      ],
      "source": [
        "def mathFunction(x, y):\n",
        "    math_func_result = ( x + y ) * ( x - y )\n",
        "    return math_func_result\n",
        "answer = mathFunction( 4, 7 )\n",
        "print(answer)\n",
        "answer = mathFunction( 4, 7 )\n",
        "print(math_func_result)"
      ]
    },
    {
      "cell_type": "code",
      "execution_count": null,
      "id": "3c5bd586",
      "metadata": {
        "id": "3c5bd586",
        "outputId": "ef51ba66-fdc9-4380-d69b-00036dd155d9"
      },
      "outputs": [
        {
          "ename": "UnboundLocalError",
          "evalue": "local variable 'counter' referenced before assignment",
          "output_type": "error",
          "traceback": [
            "\u001b[1;31m---------------------------------------------------------------------------\u001b[0m",
            "\u001b[1;31mUnboundLocalError\u001b[0m                         Traceback (most recent call last)",
            "\u001b[1;32m~\\AppData\\Local\\Temp/ipykernel_3472/1556732596.py\u001b[0m in \u001b[0;36m<module>\u001b[1;34m\u001b[0m\n\u001b[0;32m      4\u001b[0m     \u001b[0mcounter\u001b[0m \u001b[1;33m+=\u001b[0m \u001b[1;36m1\u001b[0m\u001b[1;33m\u001b[0m\u001b[1;33m\u001b[0m\u001b[0m\n\u001b[0;32m      5\u001b[0m \u001b[1;33m\u001b[0m\u001b[0m\n\u001b[1;32m----> 6\u001b[1;33m \u001b[0mincrement\u001b[0m\u001b[1;33m(\u001b[0m\u001b[1;33m)\u001b[0m\u001b[1;33m\u001b[0m\u001b[1;33m\u001b[0m\u001b[0m\n\u001b[0m\u001b[0;32m      7\u001b[0m \u001b[0mprint\u001b[0m\u001b[1;33m(\u001b[0m\u001b[0mcounter\u001b[0m\u001b[1;33m)\u001b[0m\u001b[1;33m\u001b[0m\u001b[1;33m\u001b[0m\u001b[0m\n",
            "\u001b[1;32m~\\AppData\\Local\\Temp/ipykernel_3472/1556732596.py\u001b[0m in \u001b[0;36mincrement\u001b[1;34m()\u001b[0m\n\u001b[0;32m      1\u001b[0m \u001b[0mcounter\u001b[0m \u001b[1;33m=\u001b[0m \u001b[1;36m1\u001b[0m\u001b[1;33m\u001b[0m\u001b[1;33m\u001b[0m\u001b[0m\n\u001b[0;32m      2\u001b[0m \u001b[1;32mdef\u001b[0m \u001b[0mincrement\u001b[0m\u001b[1;33m(\u001b[0m\u001b[1;33m)\u001b[0m\u001b[1;33m:\u001b[0m\u001b[1;33m\u001b[0m\u001b[1;33m\u001b[0m\u001b[0m\n\u001b[1;32m----> 3\u001b[1;33m     \u001b[0mprint\u001b[0m\u001b[1;33m(\u001b[0m\u001b[0mcounter\u001b[0m\u001b[1;33m)\u001b[0m\u001b[1;33m\u001b[0m\u001b[1;33m\u001b[0m\u001b[0m\n\u001b[0m\u001b[0;32m      4\u001b[0m     \u001b[0mcounter\u001b[0m \u001b[1;33m+=\u001b[0m \u001b[1;36m1\u001b[0m\u001b[1;33m\u001b[0m\u001b[1;33m\u001b[0m\u001b[0m\n\u001b[0;32m      5\u001b[0m \u001b[1;33m\u001b[0m\u001b[0m\n",
            "\u001b[1;31mUnboundLocalError\u001b[0m: local variable 'counter' referenced before assignment"
          ]
        }
      ],
      "source": [
        "counter = 1\n",
        "def increment(): \n",
        "    print(counter)\n",
        "    counter += 1\n",
        "\n",
        "increment()\n",
        "print(counter)"
      ]
    },
    {
      "cell_type": "code",
      "execution_count": null,
      "id": "5ca45e27",
      "metadata": {
        "id": "5ca45e27",
        "outputId": "a18204d0-3e51-4718-8e49-58b13d0422a7"
      },
      "outputs": [
        {
          "name": "stdout",
          "output_type": "stream",
          "text": [
            "1\n",
            "2\n"
          ]
        }
      ],
      "source": [
        "counter = 1\n",
        "def increment(): \n",
        "    global counter\n",
        "    print(counter)\n",
        "    counter += 1\n",
        "\n",
        "increment()\n",
        "print(counter)"
      ]
    },
    {
      "cell_type": "code",
      "execution_count": null,
      "id": "9761ba51",
      "metadata": {
        "id": "9761ba51"
      },
      "outputs": [],
      "source": [
        "def increment(counter): \n",
        "    return counter + 1\n",
        "\n",
        "counter = 0\n",
        "counter = increment( counter ) \n",
        "print(counter)"
      ]
    }
  ],
  "metadata": {
    "kernelspec": {
      "display_name": "Python 3 (ipykernel)",
      "language": "python",
      "name": "python3"
    },
    "language_info": {
      "codemirror_mode": {
        "name": "ipython",
        "version": 3
      },
      "file_extension": ".py",
      "mimetype": "text/x-python",
      "name": "python",
      "nbconvert_exporter": "python",
      "pygments_lexer": "ipython3",
      "version": "3.8.12"
    },
    "colab": {
      "name": "Function.ipynb",
      "provenance": [],
      "include_colab_link": true
    }
  },
  "nbformat": 4,
  "nbformat_minor": 5
}