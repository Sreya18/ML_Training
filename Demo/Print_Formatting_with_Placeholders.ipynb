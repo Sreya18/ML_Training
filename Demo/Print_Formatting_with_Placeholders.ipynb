{
  "cells": [
    {
      "cell_type": "markdown",
      "metadata": {
        "id": "view-in-github",
        "colab_type": "text"
      },
      "source": [
        "<a href=\"https://colab.research.google.com/github/Sreya18/ML_Training/blob/main/Demo/Print_Formatting_with_Placeholders.ipynb\" target=\"_parent\"><img src=\"https://colab.research.google.com/assets/colab-badge.svg\" alt=\"Open In Colab\"/></a>"
      ]
    },
    {
      "cell_type": "markdown",
      "id": "993008cb",
      "metadata": {
        "id": "993008cb"
      },
      "source": [
        "# Formatting with placeholders"
      ]
    },
    {
      "cell_type": "markdown",
      "id": "c7743ca0",
      "metadata": {
        "id": "c7743ca0"
      },
      "source": [
        "We can use %s to insert strings into the print statements. The modulo % is referres to as a \"string formatting operator\"."
      ]
    },
    {
      "cell_type": "code",
      "execution_count": null,
      "id": "885e9ad1",
      "metadata": {
        "id": "885e9ad1",
        "outputId": "4ff96ad4-2232-4e4b-e2ac-0e033434569a"
      },
      "outputs": [
        {
          "name": "stdout",
          "output_type": "stream",
          "text": [
            "Name - Sreya Lenka.\n"
          ]
        }
      ],
      "source": [
        "print(\"Name - %s.\"%'Sreya Lenka')"
      ]
    },
    {
      "cell_type": "markdown",
      "id": "8d5394b6",
      "metadata": {
        "id": "8d5394b6"
      },
      "source": [
        "We can pass multiple by placing them inside a tuple after the % operator."
      ]
    },
    {
      "cell_type": "code",
      "execution_count": null,
      "id": "bc48cbff",
      "metadata": {
        "id": "bc48cbff",
        "outputId": "6c5b20d0-92b5-4c37-e19d-ad947f4cc9c7"
      },
      "outputs": [
        {
          "name": "stdout",
          "output_type": "stream",
          "text": [
            "Name - Sreya Lenka and Roll No. - 1905645.\n"
          ]
        }
      ],
      "source": [
        "print(\"Name - %s and Roll No. - %s.\" %('Sreya Lenka','1905645'))"
      ]
    },
    {
      "cell_type": "markdown",
      "id": "78c055e8",
      "metadata": {
        "id": "78c055e8"
      },
      "source": [
        "We can pass variable names:"
      ]
    },
    {
      "cell_type": "code",
      "execution_count": null,
      "id": "b2f528f4",
      "metadata": {
        "id": "b2f528f4",
        "outputId": "9fb8b986-24c9-4d7c-8f23-284b58223ef0"
      },
      "outputs": [
        {
          "name": "stdout",
          "output_type": "stream",
          "text": [
            "His name is Ravi and her name is Sunidhi.\n"
          ]
        }
      ],
      "source": [
        "x,y = 'Ravi', 'Sunidhi'\n",
        "print(\"His name is %s and her name is %s.\" %(x,y))"
      ]
    },
    {
      "cell_type": "markdown",
      "id": "636204d3",
      "metadata": {
        "id": "636204d3"
      },
      "source": [
        "# Format conversion methods"
      ]
    },
    {
      "cell_type": "markdown",
      "id": "8a51344e",
      "metadata": {
        "id": "8a51344e"
      },
      "source": [
        "2 methods- %s and %r. these can convert python objects to a string using two separate methods:str() and rept().\n",
        "%s is used to insert a string. and %r is used to insert a string in a particular format."
      ]
    },
    {
      "cell_type": "code",
      "execution_count": null,
      "id": "57009155",
      "metadata": {
        "id": "57009155",
        "outputId": "6c9c5d5d-6c21-4dc1-cc7c-6a750e7935d7"
      },
      "outputs": [
        {
          "name": "stdout",
          "output_type": "stream",
          "text": [
            "He said his name was Fred.\n",
            "He said his name was 'Fred'.\n"
          ]
        }
      ],
      "source": [
        "print(\"He said his name was %s.\" %'Fred')\n",
        "print(\"He said his name was %r.\" %'Fred')"
      ]
    },
    {
      "cell_type": "code",
      "execution_count": null,
      "id": "c0b50127",
      "metadata": {
        "id": "c0b50127",
        "outputId": "b4e94607-f11a-4fb9-9320-609861e9d243"
      },
      "outputs": [
        {
          "name": "stdout",
          "output_type": "stream",
          "text": [
            "I once caught a fish this \t big.\n",
            "I once caught a fish 'this \\t big'.\n"
          ]
        }
      ],
      "source": [
        "print(\"I once caught a fish %s.\"%'this \\t big')\n",
        "print(\"I once caught a fish %r.\"%'this \\t big')"
      ]
    },
    {
      "cell_type": "markdown",
      "id": "2a231a94",
      "metadata": {
        "id": "2a231a94"
      },
      "source": [
        "%s converts whatever it sees into a string, including integers & floats.\n",
        "%d operator converts numbers to integers 1st, w/o rounding."
      ]
    },
    {
      "cell_type": "code",
      "execution_count": null,
      "id": "213ddf33",
      "metadata": {
        "id": "213ddf33",
        "outputId": "0a2974e6-4091-4f40-b5a4-29418720deca"
      },
      "outputs": [
        {
          "name": "stdout",
          "output_type": "stream",
          "text": [
            "I wrote 4.7 programs today.\n",
            "I wrote 4 programs today.\n"
          ]
        }
      ],
      "source": [
        "print(\"I wrote %s programs today.\" %4.7)\n",
        "print(\"I wrote %d programs today.\" %4.7)"
      ]
    },
    {
      "cell_type": "markdown",
      "id": "47350181",
      "metadata": {
        "id": "47350181"
      },
      "source": [
        "# Padding and Precision of Floating Point Numbers"
      ]
    },
    {
      "cell_type": "markdown",
      "id": "a2379a76",
      "metadata": {
        "id": "a2379a76"
      },
      "source": [
        "Floating point nos. use the format %5.2f.\n",
        "5 would be min. no. of characters the string contains; these may be padded with whitespace if the entire no. doesn't have 5 digits.\n",
        ".2f stands for how many nos. it will show after the decimal point."
      ]
    },
    {
      "cell_type": "code",
      "execution_count": null,
      "id": "7547cf4e",
      "metadata": {
        "id": "7547cf4e",
        "outputId": "cf289d18-0fb3-4d44-9100-563ed4235ff3"
      },
      "outputs": [
        {
          "name": "stdout",
          "output_type": "stream",
          "text": [
            "Floating point nos.: 34.77\n"
          ]
        }
      ],
      "source": [
        "print(\"Floating point nos.: %5.2f\" %(34.768))"
      ]
    },
    {
      "cell_type": "code",
      "execution_count": null,
      "id": "54f87ae6",
      "metadata": {
        "id": "54f87ae6",
        "outputId": "a6fa9055-c154-4b65-d81d-8d3872b8f0ff"
      },
      "outputs": [
        {
          "name": "stdout",
          "output_type": "stream",
          "text": [
            "Floating point nos.: 35\n"
          ]
        }
      ],
      "source": [
        "print(\"Floating point nos.: %1.0f\" %(34.768))"
      ]
    },
    {
      "cell_type": "code",
      "execution_count": null,
      "id": "05042adc",
      "metadata": {
        "id": "05042adc",
        "outputId": "ec7234d8-60c8-42f3-8646-b0848b9b003e"
      },
      "outputs": [
        {
          "name": "stdout",
          "output_type": "stream",
          "text": [
            "Floating point nos.: 34.76800\n"
          ]
        }
      ],
      "source": [
        "print(\"Floating point nos.: %1.5f\" %(34.768))"
      ]
    },
    {
      "cell_type": "code",
      "execution_count": null,
      "id": "18eed8ca",
      "metadata": {
        "id": "18eed8ca",
        "outputId": "db144725-b827-42c3-95cd-a5d57660482a"
      },
      "outputs": [
        {
          "name": "stdout",
          "output_type": "stream",
          "text": [
            "Floating point nos.:     34.8\n"
          ]
        }
      ],
      "source": [
        "print(\"Floating point nos.: %8.1f\" %(34.768))"
      ]
    },
    {
      "cell_type": "code",
      "execution_count": null,
      "id": "9375333e",
      "metadata": {
        "id": "9375333e",
        "outputId": "473c3075-e500-4dff-e615-64dcd0b0e31d"
      },
      "outputs": [
        {
          "name": "stdout",
          "output_type": "stream",
          "text": [
            "Floating point nos.: 34.7680000\n"
          ]
        }
      ],
      "source": [
        "print(\"Floating point nos.: %10.7f\" %(34.768))"
      ]
    },
    {
      "cell_type": "markdown",
      "id": "24013d6f",
      "metadata": {
        "id": "24013d6f"
      },
      "source": [
        "# Multiple Formatting"
      ]
    },
    {
      "cell_type": "code",
      "execution_count": null,
      "id": "985c13d8",
      "metadata": {
        "id": "985c13d8",
        "outputId": "7026cbf0-bd92-41ca-a02b-2eaf045ed080"
      },
      "outputs": [
        {
          "name": "stdout",
          "output_type": "stream",
          "text": [
            "1st: hi! , 2nd: 'bye!' , 3rd:  3.14 \n"
          ]
        }
      ],
      "source": [
        "print(\"1st: %s , 2nd: %r , 3rd: %5.2f \" %('hi!','bye!', 3.144))"
      ]
    },
    {
      "cell_type": "markdown",
      "id": "9391b0db",
      "metadata": {
        "id": "9391b0db"
      },
      "source": [
        "# Formatting with the .format() method"
      ]
    },
    {
      "cell_type": "markdown",
      "id": "c4cad0d2",
      "metadata": {
        "id": "c4cad0d2"
      },
      "source": [
        "Syntax: 'String here {} then also {}'.format('something1','something2')"
      ]
    },
    {
      "cell_type": "code",
      "execution_count": null,
      "id": "3127737c",
      "metadata": {
        "id": "3127737c",
        "outputId": "604630bf-9366-4c8e-8f88-9be6e3024a35"
      },
      "outputs": [
        {
          "name": "stdout",
          "output_type": "stream",
          "text": [
            "Name : Sreya Lenka\n"
          ]
        }
      ],
      "source": [
        "print(\"Name : {}\".format('Sreya Lenka'))"
      ]
    },
    {
      "cell_type": "markdown",
      "id": "4aa9ff33",
      "metadata": {
        "id": "4aa9ff33"
      },
      "source": [
        "# Advantages of .format() method over %s"
      ]
    },
    {
      "cell_type": "markdown",
      "id": "c71c5449",
      "metadata": {
        "id": "c71c5449"
      },
      "source": [
        "1.Inserted objects can be called by index position"
      ]
    },
    {
      "cell_type": "code",
      "execution_count": null,
      "id": "9878542c",
      "metadata": {
        "id": "9878542c",
        "outputId": "97cce1b1-5d2c-4692-8fc4-ae1f00c80171"
      },
      "outputs": [
        {
          "name": "stdout",
          "output_type": "stream",
          "text": [
            "Name: Sreya Lenka, Roll no.: 1905645, Branch: CSE\n"
          ]
        }
      ],
      "source": [
        "print(\"Name: {2}, Roll no.: {0}, Branch: {1}\".format('1905645','CSE','Sreya Lenka'))"
      ]
    },
    {
      "cell_type": "markdown",
      "id": "0fa5a91c",
      "metadata": {
        "id": "0fa5a91c"
      },
      "source": [
        "2.Inserted objects can be assigned keywords"
      ]
    },
    {
      "cell_type": "code",
      "execution_count": null,
      "id": "eea92e75",
      "metadata": {
        "id": "eea92e75",
        "outputId": "aec02800-1e54-42e9-c156-6b9469652f51"
      },
      "outputs": [
        {
          "name": "stdout",
          "output_type": "stream",
          "text": [
            "First Object: 1, Second Object: Two, Third Object: 12.3\n"
          ]
        }
      ],
      "source": [
        "print('First Object: {a}, Second Object: {b}, Third Object: {c}'.format(a=1,b='Two',c=12.3))"
      ]
    },
    {
      "cell_type": "markdown",
      "id": "fbdb0b2d",
      "metadata": {
        "id": "fbdb0b2d"
      },
      "source": [
        "3.Inserted objects can be reused, avoiding duplication"
      ]
    },
    {
      "cell_type": "code",
      "execution_count": null,
      "id": "8e2b20b8",
      "metadata": {
        "id": "8e2b20b8",
        "outputId": "84dc85ba-e094-4d3f-d63f-471c36a3e9b8"
      },
      "outputs": [
        {
          "name": "stdout",
          "output_type": "stream",
          "text": [
            "A penny saved is a penny earned.\n",
            "A penny saved is a penny earned.\n"
          ]
        }
      ],
      "source": [
        "print('A %s saved is a %s earned.' %('penny','penny'))\n",
        "# vs.\n",
        "print('A {p} saved is a {p} earned.'.format(p='penny'))"
      ]
    },
    {
      "cell_type": "markdown",
      "id": "af2a9172",
      "metadata": {
        "id": "af2a9172"
      },
      "source": [
        "# Formatted String Literals(f-strings)"
      ]
    },
    {
      "cell_type": "markdown",
      "id": "6c9b662c",
      "metadata": {
        "id": "6c9b662c"
      },
      "source": [
        "Introduced in Python 3.6, f-strings offer several benefits over the older .format() string method described above. For one, you can bring outside variables immediately into to the string rather than pass them as arguments through .format(var)."
      ]
    },
    {
      "cell_type": "code",
      "execution_count": null,
      "id": "ceb6c9ec",
      "metadata": {
        "id": "ceb6c9ec",
        "outputId": "186513fc-8ba6-421b-efa2-1bd0a62117e1"
      },
      "outputs": [
        {
          "name": "stdout",
          "output_type": "stream",
          "text": [
            "My name is Sreya. \n"
          ]
        }
      ],
      "source": [
        "name='Sreya'\n",
        "print(f\"My name is {name}. \")"
      ]
    },
    {
      "cell_type": "markdown",
      "id": "30687e5d",
      "metadata": {
        "id": "30687e5d"
      },
      "source": [
        "We can pass !r to get string representation"
      ]
    },
    {
      "cell_type": "code",
      "execution_count": null,
      "id": "d58f57fe",
      "metadata": {
        "id": "d58f57fe",
        "outputId": "db7a8b56-c908-4f9a-d172-7437df9fbf14"
      },
      "outputs": [
        {
          "name": "stdout",
          "output_type": "stream",
          "text": [
            "My name is 'Sreya'. \n"
          ]
        }
      ],
      "source": [
        "print(f\"My name is {name!r}. \")"
      ]
    },
    {
      "cell_type": "markdown",
      "id": "40bd7686",
      "metadata": {
        "id": "40bd7686"
      },
      "source": [
        "float formatting follows \"result: {value:{width}.{precision}}\"\n",
        "\n",
        "Where with the .format() method you might see {value:10.4f}, with f-strings this can become {value:{10}.{6}}"
      ]
    },
    {
      "cell_type": "code",
      "execution_count": null,
      "id": "4346fd62",
      "metadata": {
        "id": "4346fd62",
        "outputId": "3a4bcecf-1c8e-46db-f207-baff1f58b9ac"
      },
      "outputs": [
        {
          "name": "stdout",
          "output_type": "stream",
          "text": [
            "My 10 character, four decimal number is:  54.7869\n",
            "My 10 character, four decimal number is:  54.7869\n"
          ]
        }
      ],
      "source": [
        "num = 54.7869\n",
        "print(\"My 10 character, four decimal number is:{0:9.4f}\".format(num))\n",
        "print(f\"My 10 character, four decimal number is:{num:{9}.{6}}\")"
      ]
    },
    {
      "cell_type": "markdown",
      "id": "31615c8e",
      "metadata": {
        "id": "31615c8e"
      },
      "source": [
        "f-strings, precision refers to the total number of digits, not just those following the decimal. \n",
        " \n",
        "f-strings do not pad to the right of the decimal, even if precision allows it:"
      ]
    },
    {
      "cell_type": "code",
      "execution_count": null,
      "id": "83f47de5",
      "metadata": {
        "id": "83f47de5",
        "outputId": "8b7861e9-d21f-4184-d8a7-6dac24faed46"
      },
      "outputs": [
        {
          "name": "stdout",
          "output_type": "stream",
          "text": [
            "My 10 character, four decimal number is:   54.7800\n",
            "My 10 character, four decimal number is:     54.78\n"
          ]
        }
      ],
      "source": [
        "num = 54.78\n",
        "print(\"My 10 character, four decimal number is:{0:10.4f}\".format(num))\n",
        "print(f\"My 10 character, four decimal number is:{num:{10}.{6}}\")"
      ]
    },
    {
      "cell_type": "markdown",
      "id": "8d3e2299",
      "metadata": {
        "id": "8d3e2299"
      },
      "source": [
        "If padding after decimal becomes important, we can always use .format() method syntax inside an f-string:"
      ]
    },
    {
      "cell_type": "code",
      "execution_count": 1,
      "id": "cc804be1",
      "metadata": {
        "colab": {
          "base_uri": "https://localhost:8080/"
        },
        "id": "cc804be1",
        "outputId": "ea3ba9da-cce1-4e1b-f853-0118d314fb4d"
      },
      "outputs": [
        {
          "output_type": "stream",
          "name": "stdout",
          "text": [
            "My 10 character, four decimal number is:   54.7800\n",
            "My 10 character, four decimal number is:   54.7800\n"
          ]
        }
      ],
      "source": [
        "num = 54.78\n",
        "print(\"My 10 character, four decimal number is:{0:10.4f}\".format(num))\n",
        "print(f\"My 10 character, four decimal number is:{num:10.4f}\")"
      ]
    },
    {
      "cell_type": "code",
      "execution_count": null,
      "id": "35ebbff9",
      "metadata": {
        "id": "35ebbff9"
      },
      "outputs": [],
      "source": [
        ""
      ]
    }
  ],
  "metadata": {
    "kernelspec": {
      "display_name": "Python 3 (ipykernel)",
      "language": "python",
      "name": "python3"
    },
    "language_info": {
      "codemirror_mode": {
        "name": "ipython",
        "version": 3
      },
      "file_extension": ".py",
      "mimetype": "text/x-python",
      "name": "python",
      "nbconvert_exporter": "python",
      "pygments_lexer": "ipython3",
      "version": "3.8.12"
    },
    "colab": {
      "name": "Print Formatting with Placeholders.ipynb",
      "provenance": [],
      "include_colab_link": true
    }
  },
  "nbformat": 4,
  "nbformat_minor": 5
}