{
  "cells": [
    {
      "cell_type": "markdown",
      "metadata": {
        "id": "view-in-github",
        "colab_type": "text"
      },
      "source": [
        "<a href=\"https://colab.research.google.com/github/Sreya18/ML_Training/blob/main/Demo/Strings.ipynb\" target=\"_parent\"><img src=\"https://colab.research.google.com/assets/colab-badge.svg\" alt=\"Open In Colab\"/></a>"
      ]
    },
    {
      "cell_type": "code",
      "execution_count": null,
      "id": "889fd7ed",
      "metadata": {
        "id": "889fd7ed",
        "outputId": "c4ad5d73-899c-4798-ef8c-566ad2a2c852"
      },
      "outputs": [
        {
          "data": {
            "text/plain": [
              "'Hello!'"
            ]
          },
          "execution_count": 1,
          "metadata": {},
          "output_type": "execute_result"
        }
      ],
      "source": [
        "#single quote\n",
        "'Hello!'"
      ]
    },
    {
      "cell_type": "code",
      "execution_count": null,
      "id": "d6a66388",
      "metadata": {
        "id": "d6a66388",
        "outputId": "4a25ac20-6180-41d1-cca7-657aba1d25b6"
      },
      "outputs": [
        {
          "data": {
            "text/plain": [
              "'String built with double quotes'"
            ]
          },
          "execution_count": 2,
          "metadata": {},
          "output_type": "execute_result"
        }
      ],
      "source": [
        "#double quptes\n",
        "\"String built with double quotes\""
      ]
    },
    {
      "cell_type": "code",
      "execution_count": null,
      "id": "2a9ba5b7",
      "metadata": {
        "id": "2a9ba5b7",
        "outputId": "1acc8044-f3ef-4008-d47e-76b3eac335b4"
      },
      "outputs": [
        {
          "ename": "SyntaxError",
          "evalue": "invalid syntax (Temp/ipykernel_8328/2417111664.py, line 1)",
          "output_type": "error",
          "traceback": [
            "\u001b[1;36m  File \u001b[1;32m\"C:\\Users\\KIIT\\AppData\\Local\\Temp/ipykernel_8328/2417111664.py\"\u001b[1;36m, line \u001b[1;32m1\u001b[0m\n\u001b[1;33m    'I'm Sreya Lenka.'\u001b[0m\n\u001b[1;37m       ^\u001b[0m\n\u001b[1;31mSyntaxError\u001b[0m\u001b[1;31m:\u001b[0m invalid syntax\n"
          ]
        }
      ],
      "source": [
        "'I'm Sreya Lenka.'"
      ]
    },
    {
      "cell_type": "markdown",
      "id": "c5d2a5a4",
      "metadata": {
        "id": "c5d2a5a4"
      },
      "source": [
        "Same quotes can't be used inside the same quotes."
      ]
    },
    {
      "cell_type": "code",
      "execution_count": null,
      "id": "793e67ab",
      "metadata": {
        "id": "793e67ab",
        "outputId": "f1343318-98d3-4e04-c8e3-a43ef3e9e5c4"
      },
      "outputs": [
        {
          "data": {
            "text/plain": [
              "\"I'm Sreya Lenka.\""
            ]
          },
          "execution_count": 5,
          "metadata": {},
          "output_type": "execute_result"
        }
      ],
      "source": [
        "#single quotes can be used inside a double quote and not a single quote and vice-versa.\n",
        "\"I'm Sreya Lenka.\""
      ]
    },
    {
      "cell_type": "code",
      "execution_count": null,
      "id": "5e4eb6e2",
      "metadata": {
        "id": "5e4eb6e2",
        "outputId": "9d9b3147-dcbc-46b5-e234-1b64f3661c6a"
      },
      "outputs": [
        {
          "name": "stdout",
          "output_type": "stream",
          "text": [
            "Sreya Lenka\n"
          ]
        }
      ],
      "source": [
        "print('Sreya Lenka')"
      ]
    },
    {
      "cell_type": "code",
      "execution_count": null,
      "id": "cb2d8fdc",
      "metadata": {
        "id": "cb2d8fdc",
        "outputId": "22a41411-c7a2-48e6-d5d2-7fc51485a535"
      },
      "outputs": [
        {
          "data": {
            "text/plain": [
              "11"
            ]
          },
          "execution_count": 8,
          "metadata": {},
          "output_type": "execute_result"
        }
      ],
      "source": [
        "len('Sreya Lenka')"
      ]
    },
    {
      "cell_type": "markdown",
      "id": "dbf28d0a",
      "metadata": {
        "id": "dbf28d0a"
      },
      "source": [
        "len() counts blank spaces also."
      ]
    },
    {
      "cell_type": "code",
      "execution_count": null,
      "id": "42a30e3c",
      "metadata": {
        "id": "42a30e3c",
        "outputId": "e766f5f6-3660-456d-f76d-9d6efafdcb8c"
      },
      "outputs": [
        {
          "name": "stdout",
          "output_type": "stream",
          "text": [
            "Hello World\n"
          ]
        }
      ],
      "source": [
        "a='Hello World'\n",
        "print(a)"
      ]
    },
    {
      "cell_type": "code",
      "execution_count": null,
      "id": "0506de43",
      "metadata": {
        "id": "0506de43",
        "outputId": "5f312280-9f2a-48fd-d3ed-5c05a09de000"
      },
      "outputs": [
        {
          "data": {
            "text/plain": [
              "'l'"
            ]
          },
          "execution_count": 5,
          "metadata": {},
          "output_type": "execute_result"
        }
      ],
      "source": [
        "a[3]"
      ]
    },
    {
      "cell_type": "code",
      "execution_count": null,
      "id": "671b73ce",
      "metadata": {
        "id": "671b73ce",
        "outputId": "09ee1f87-e8e8-45b1-fecd-827ffb619e96"
      },
      "outputs": [
        {
          "data": {
            "text/plain": [
              "'r'"
            ]
          },
          "execution_count": 6,
          "metadata": {},
          "output_type": "execute_result"
        }
      ],
      "source": [
        "a[8]"
      ]
    },
    {
      "cell_type": "code",
      "execution_count": null,
      "id": "8f2d99c9",
      "metadata": {
        "id": "8f2d99c9",
        "outputId": "a77ad7a5-a25d-44d2-a7b2-628f0335f52f"
      },
      "outputs": [
        {
          "data": {
            "text/plain": [
              "'ello '"
            ]
          },
          "execution_count": 7,
          "metadata": {},
          "output_type": "execute_result"
        }
      ],
      "source": [
        "a[1:6]"
      ]
    },
    {
      "cell_type": "code",
      "execution_count": null,
      "id": "494cac17",
      "metadata": {
        "id": "494cac17",
        "outputId": "0c4e4ff3-99ed-4b9e-8567-ab4b70310519"
      },
      "outputs": [
        {
          "data": {
            "text/plain": [
              "'Hello Wo'"
            ]
          },
          "execution_count": 8,
          "metadata": {},
          "output_type": "execute_result"
        }
      ],
      "source": [
        "a[:-3]"
      ]
    },
    {
      "cell_type": "code",
      "execution_count": null,
      "id": "15aeb51e",
      "metadata": {
        "id": "15aeb51e",
        "outputId": "93184c7c-16a6-4250-c2e4-39fe2d523633"
      },
      "outputs": [
        {
          "data": {
            "text/plain": [
              "'HloWrd'"
            ]
          },
          "execution_count": 9,
          "metadata": {},
          "output_type": "execute_result"
        }
      ],
      "source": [
        "a[::2]"
      ]
    },
    {
      "cell_type": "code",
      "execution_count": null,
      "id": "90d3f7b1",
      "metadata": {
        "id": "90d3f7b1",
        "outputId": "29ee8803-6946-4241-c552-49c3fc8449f6"
      },
      "outputs": [
        {
          "data": {
            "text/plain": [
              "'dlroW olleH'"
            ]
          },
          "execution_count": 10,
          "metadata": {},
          "output_type": "execute_result"
        }
      ],
      "source": [
        "a[::-1]"
      ]
    },
    {
      "cell_type": "markdown",
      "id": "58f2c4b1",
      "metadata": {
        "id": "58f2c4b1"
      },
      "source": [
        "a[::-1] reverses the string"
      ]
    },
    {
      "cell_type": "code",
      "execution_count": null,
      "id": "2cb56d88",
      "metadata": {
        "id": "2cb56d88"
      },
      "outputs": [],
      "source": [
        "# Write one program to reverse the string programatically\n",
        "\n",
        "s='Hello World!'\n"
      ]
    },
    {
      "cell_type": "code",
      "execution_count": null,
      "id": "1eeb0f4b",
      "metadata": {
        "id": "1eeb0f4b",
        "outputId": "08f8e81b-1d2e-483d-eabb-c11fd2358df8"
      },
      "outputs": [
        {
          "ename": "TypeError",
          "evalue": "'str' object does not support item assignment",
          "output_type": "error",
          "traceback": [
            "\u001b[1;31m---------------------------------------------------------------------------\u001b[0m",
            "\u001b[1;31mTypeError\u001b[0m                                 Traceback (most recent call last)",
            "\u001b[1;32m~\\AppData\\Local\\Temp/ipykernel_8272/2157924005.py\u001b[0m in \u001b[0;36m<module>\u001b[1;34m\u001b[0m\n\u001b[1;32m----> 1\u001b[1;33m \u001b[0ma\u001b[0m\u001b[1;33m[\u001b[0m\u001b[1;36m0\u001b[0m\u001b[1;33m]\u001b[0m\u001b[1;33m=\u001b[0m\u001b[1;34m'x'\u001b[0m\u001b[1;33m\u001b[0m\u001b[1;33m\u001b[0m\u001b[0m\n\u001b[0m",
            "\u001b[1;31mTypeError\u001b[0m: 'str' object does not support item assignment"
          ]
        }
      ],
      "source": [
        "a[0]='x'"
      ]
    },
    {
      "cell_type": "markdown",
      "id": "1e900fd5",
      "metadata": {
        "id": "1e900fd5"
      },
      "source": [
        "we cannot assign diff value to an item in a string."
      ]
    },
    {
      "cell_type": "code",
      "execution_count": null,
      "id": "a2faac7c",
      "metadata": {
        "id": "a2faac7c",
        "outputId": "a83223f8-e3fc-4852-a453-f75afe9e71c9"
      },
      "outputs": [
        {
          "data": {
            "text/plain": [
              "'Hello World!  How r u?'"
            ]
          },
          "execution_count": 14,
          "metadata": {},
          "output_type": "execute_result"
        }
      ],
      "source": [
        "s + '  How r u?'"
      ]
    },
    {
      "cell_type": "code",
      "execution_count": null,
      "id": "3cda209e",
      "metadata": {
        "id": "3cda209e"
      },
      "outputs": [],
      "source": [
        "s=s + '  How r u?'"
      ]
    },
    {
      "cell_type": "code",
      "execution_count": null,
      "id": "a2165509",
      "metadata": {
        "id": "a2165509",
        "outputId": "9422bae5-fbd2-4a70-fc66-2f4137055851"
      },
      "outputs": [
        {
          "name": "stdout",
          "output_type": "stream",
          "text": [
            "Hello World!  How r u?\n"
          ]
        }
      ],
      "source": [
        "print(s)"
      ]
    },
    {
      "cell_type": "code",
      "execution_count": null,
      "id": "07c116d5",
      "metadata": {
        "id": "07c116d5"
      },
      "outputs": [],
      "source": [
        "digit='a'"
      ]
    },
    {
      "cell_type": "code",
      "execution_count": null,
      "id": "3733cf79",
      "metadata": {
        "id": "3733cf79",
        "outputId": "0fd60535-01e1-446c-91de-23d3a1448fad"
      },
      "outputs": [
        {
          "data": {
            "text/plain": [
              "'aaaa'"
            ]
          },
          "execution_count": 18,
          "metadata": {},
          "output_type": "execute_result"
        }
      ],
      "source": [
        "digit*4"
      ]
    },
    {
      "cell_type": "code",
      "execution_count": null,
      "id": "7040536f",
      "metadata": {
        "id": "7040536f",
        "outputId": "55ff8216-6454-441c-ceba-36c953abe5a9"
      },
      "outputs": [
        {
          "data": {
            "text/plain": [
              "'HELLO WORLD!  HOW R U?'"
            ]
          },
          "execution_count": 19,
          "metadata": {},
          "output_type": "execute_result"
        }
      ],
      "source": [
        "# Upper case a string\n",
        "s.upper()"
      ]
    },
    {
      "cell_type": "code",
      "execution_count": null,
      "id": "51fed5b8",
      "metadata": {
        "id": "51fed5b8",
        "outputId": "b27e4580-b904-4ee9-d43f-b24b6b7ccf60"
      },
      "outputs": [
        {
          "data": {
            "text/plain": [
              "'hello world!  how r u?'"
            ]
          },
          "execution_count": 20,
          "metadata": {},
          "output_type": "execute_result"
        }
      ],
      "source": [
        "# Lower case a string\n",
        "s.lower()"
      ]
    },
    {
      "cell_type": "code",
      "execution_count": null,
      "id": "87fa480d",
      "metadata": {
        "id": "87fa480d",
        "outputId": "1522b1e1-78fe-4533-ab05-e640e7548676"
      },
      "outputs": [
        {
          "data": {
            "text/plain": [
              "['Hello', 'World!', 'How', 'r', 'u?']"
            ]
          },
          "execution_count": 21,
          "metadata": {},
          "output_type": "execute_result"
        }
      ],
      "source": [
        "# spilt the words into diff items- through blank spaces\n",
        "s.split()"
      ]
    },
    {
      "cell_type": "code",
      "execution_count": null,
      "id": "3c609e19",
      "metadata": {
        "id": "3c609e19"
      },
      "outputs": [],
      "source": [
        "#Write one program to find all email id in a text document\n",
        "\n"
      ]
    },
    {
      "cell_type": "code",
      "execution_count": null,
      "id": "79fad1f7",
      "metadata": {
        "id": "79fad1f7",
        "outputId": "7dfae80c-3433-41da-97f4-c4741c200c8f"
      },
      "outputs": [
        {
          "data": {
            "text/plain": [
              "['Hello ', 'orld!  How r u?']"
            ]
          },
          "execution_count": 23,
          "metadata": {},
          "output_type": "execute_result"
        }
      ],
      "source": [
        "# Separation at a particular letter\n",
        "s.split('W')"
      ]
    },
    {
      "cell_type": "code",
      "execution_count": null,
      "id": "97861598",
      "metadata": {
        "id": "97861598",
        "outputId": "8b47428f-3119-4a1b-fc1c-5f5a799d50d4"
      },
      "outputs": [
        {
          "name": "stdout",
          "output_type": "stream",
          "text": [
            "Enter number :1346\n",
            "1346\n",
            "Enter name : Sreya\n",
            "Sreya\n",
            "type of number <class 'int'>\n",
            "type of name <class 'str'>\n"
          ]
        }
      ],
      "source": [
        "num = int(input (\"Enter number :\"))\n",
        "print(num)\n",
        "name = input(\"Enter name : \")\n",
        "print(name)\n",
        "  \n",
        "# Printing type of input value\n",
        "print (\"type of number\", type(num))\n",
        "print (\"type of name\", type(name))"
      ]
    },
    {
      "cell_type": "code",
      "execution_count": null,
      "id": "3ce6e29c",
      "metadata": {
        "id": "3ce6e29c",
        "outputId": "fa48e8cf-353c-4ba5-aae0-5210a12c6a87"
      },
      "outputs": [
        {
          "data": {
            "text/plain": [
              "'Name : Sreya'"
            ]
          },
          "execution_count": 31,
          "metadata": {},
          "output_type": "execute_result"
        }
      ],
      "source": [
        "#Inser a string using .format() method\n",
        "'Name : {}'.format('Sreya')"
      ]
    },
    {
      "cell_type": "code",
      "execution_count": null,
      "id": "2f4756c4",
      "metadata": {
        "id": "2f4756c4"
      },
      "outputs": [],
      "source": [
        ""
      ]
    }
  ],
  "metadata": {
    "kernelspec": {
      "display_name": "Python 3 (ipykernel)",
      "language": "python",
      "name": "python3"
    },
    "language_info": {
      "codemirror_mode": {
        "name": "ipython",
        "version": 3
      },
      "file_extension": ".py",
      "mimetype": "text/x-python",
      "name": "python",
      "nbconvert_exporter": "python",
      "pygments_lexer": "ipython3",
      "version": "3.8.12"
    },
    "colab": {
      "name": "Strings.ipynb",
      "provenance": [],
      "include_colab_link": true
    }
  },
  "nbformat": 4,
  "nbformat_minor": 5
}