{
  "cells": [
    {
      "cell_type": "markdown",
      "metadata": {
        "id": "view-in-github",
        "colab_type": "text"
      },
      "source": [
        "<a href=\"https://colab.research.google.com/github/Sreya18/ML_Training/blob/main/Demo/3rd_program.ipynb\" target=\"_parent\"><img src=\"https://colab.research.google.com/assets/colab-badge.svg\" alt=\"Open In Colab\"/></a>"
      ]
    },
    {
      "cell_type": "code",
      "source": [
        "#Python automatically converts the variable's datatype\n",
        "a=23   #int\n",
        "print(type(a))\n",
        "b=3.0  #float\n",
        "print(type(b))\n",
        "c=a+b  #float addition\n",
        "print(c)\n",
        "print(type(c))\n",
        "d=a*b  #float multiplication\n",
        "print(d)\n",
        "print(type(d))"
      ],
      "metadata": {
        "id": "gNm1acKgFHfi",
        "outputId": "11a87c7c-88ca-48fa-96ae-f9a8cc3611d1",
        "colab": {
          "base_uri": "https://localhost:8080/"
        }
      },
      "id": "gNm1acKgFHfi",
      "execution_count": 1,
      "outputs": [
        {
          "output_type": "stream",
          "name": "stdout",
          "text": [
            "<class 'int'>\n",
            "<class 'float'>\n",
            "26.0\n",
            "<class 'float'>\n",
            "69.0\n",
            "<class 'float'>\n"
          ]
        }
      ]
    },
    {
      "cell_type": "code",
      "execution_count": null,
      "id": "8a9b3271",
      "metadata": {
        "id": "8a9b3271",
        "outputId": "9b5cc2e8-3362-4cf0-9f9b-b8e0edbbacf1"
      },
      "outputs": [
        {
          "name": "stdout",
          "output_type": "stream",
          "text": [
            "Enter the price: 10\n",
            "Prince = 10.0\n"
          ]
        }
      ],
      "source": [
        "price=input(\"Enter the price: \")\n",
        "try:\n",
        "    price=float(price)\n",
        "    print('Prince =',price)\n",
        "except ValueError:\n",
        "    print('Not a number!')"
      ]
    },
    {
      "cell_type": "code",
      "execution_count": null,
      "id": "e866d25e",
      "metadata": {
        "id": "e866d25e",
        "outputId": "82812f4b-3a3e-4dc3-e6fe-c2159d1b531b"
      },
      "outputs": [
        {
          "name": "stdout",
          "output_type": "stream",
          "text": [
            "Enter the price: hi\n",
            "Not a number!\n"
          ]
        }
      ],
      "source": [
        "price=input(\"Enter the price: \")\n",
        "try:\n",
        "    price=float(price)\n",
        "    print('Prince =',price)\n",
        "except ValueError:\n",
        "    print('Not a number!')"
      ]
    },
    {
      "cell_type": "markdown",
      "id": "2d83ea2e",
      "metadata": {
        "id": "2d83ea2e"
      },
      "source": [
        "# to avoid code crash of a wrong i/p, we use exception handeling, try and except"
      ]
    },
    {
      "cell_type": "code",
      "execution_count": null,
      "id": "f41425d7",
      "metadata": {
        "id": "f41425d7",
        "outputId": "6dc415e4-22f2-4014-f405-26e3b3533e38"
      },
      "outputs": [
        {
          "name": "stdout",
          "output_type": "stream",
          "text": [
            "Enter the price: 10\n",
            "Prince = 10.0\n",
            "Not a number!\n"
          ]
        }
      ],
      "source": [
        "price=input(\"Enter the price: \")\n",
        "price=float(price)\n",
        "print('Price =',price)\n",
        "print('Not a number!')"
      ]
    },
    {
      "cell_type": "code",
      "execution_count": null,
      "id": "369b1a57",
      "metadata": {
        "id": "369b1a57",
        "outputId": "ce63a729-298c-45a6-dc9d-2c1cba243553"
      },
      "outputs": [
        {
          "name": "stdout",
          "output_type": "stream",
          "text": [
            "Enter the price: hi\n"
          ]
        },
        {
          "ename": "ValueError",
          "evalue": "could not convert string to float: 'hi'",
          "output_type": "error",
          "traceback": [
            "\u001b[1;31m---------------------------------------------------------------------------\u001b[0m",
            "\u001b[1;31mValueError\u001b[0m                                Traceback (most recent call last)",
            "\u001b[1;32m~\\AppData\\Local\\Temp/ipykernel_9552/3272131229.py\u001b[0m in \u001b[0;36m<module>\u001b[1;34m\u001b[0m\n\u001b[0;32m      1\u001b[0m \u001b[0mprice\u001b[0m\u001b[1;33m=\u001b[0m\u001b[0minput\u001b[0m\u001b[1;33m(\u001b[0m\u001b[1;34m\"Enter the price: \"\u001b[0m\u001b[1;33m)\u001b[0m\u001b[1;33m\u001b[0m\u001b[1;33m\u001b[0m\u001b[0m\n\u001b[1;32m----> 2\u001b[1;33m \u001b[0mprice\u001b[0m\u001b[1;33m=\u001b[0m\u001b[0mfloat\u001b[0m\u001b[1;33m(\u001b[0m\u001b[0mprice\u001b[0m\u001b[1;33m)\u001b[0m\u001b[1;33m\u001b[0m\u001b[1;33m\u001b[0m\u001b[0m\n\u001b[0m\u001b[0;32m      3\u001b[0m \u001b[0mprint\u001b[0m\u001b[1;33m(\u001b[0m\u001b[1;34m'Prince ='\u001b[0m\u001b[1;33m,\u001b[0m\u001b[0mprice\u001b[0m\u001b[1;33m)\u001b[0m\u001b[1;33m\u001b[0m\u001b[1;33m\u001b[0m\u001b[0m\n\u001b[0;32m      4\u001b[0m \u001b[0mprint\u001b[0m\u001b[1;33m(\u001b[0m\u001b[1;34m'Not a number!'\u001b[0m\u001b[1;33m)\u001b[0m\u001b[1;33m\u001b[0m\u001b[1;33m\u001b[0m\u001b[0m\n",
            "\u001b[1;31mValueError\u001b[0m: could not convert string to float: 'hi'"
          ]
        }
      ],
      "source": [
        "price=input(\"Enter the price: \")\n",
        "price=float(price)\n",
        "print('Price =',price)\n",
        "print('Not a number!')"
      ]
    },
    {
      "cell_type": "markdown",
      "id": "9e674ea3",
      "metadata": {
        "id": "9e674ea3"
      },
      "source": [
        "# program crashes for a wrong input\n"
      ]
    },
    {
      "cell_type": "code",
      "execution_count": null,
      "id": "ac666bb3",
      "metadata": {
        "id": "ac666bb3",
        "outputId": "e20c9daf-b6b5-4f63-ba9c-848146db2fb1"
      },
      "outputs": [
        {
          "name": "stdout",
          "output_type": "stream",
          "text": [
            "hi10\n"
          ]
        }
      ],
      "source": [
        "c='hi'+str(10)\n",
        "print(c)"
      ]
    },
    {
      "cell_type": "code",
      "execution_count": null,
      "id": "283e8eb7",
      "metadata": {
        "id": "283e8eb7",
        "outputId": "a59eae4b-c0e0-4f74-a527-9c3562ff7816"
      },
      "outputs": [
        {
          "name": "stdout",
          "output_type": "stream",
          "text": [
            "Enter the price: 10\n",
            "<class 'str'>\n",
            "Price = 10\n",
            "<class 'int'>\n"
          ]
        }
      ],
      "source": [
        "price=input(\"Enter the price: \")\n",
        "print(type(price))\n",
        "price=int(price)\n",
        "print('Price =',price)\n",
        "print(type(price))"
      ]
    },
    {
      "cell_type": "code",
      "execution_count": null,
      "id": "5b8423f1",
      "metadata": {
        "id": "5b8423f1",
        "outputId": "4a26a4c0-65f7-416b-db50-8610f5f7cb4a"
      },
      "outputs": [
        {
          "name": "stdout",
          "output_type": "stream",
          "text": [
            "highest 74\n"
          ]
        }
      ],
      "source": [
        "highest=0\n",
        "for value in [9,41,12,3,74,15]:\n",
        "  if value>highest:\n",
        "    highest=value\n",
        "print('highest',highest)"
      ]
    },
    {
      "cell_type": "code",
      "execution_count": null,
      "id": "66a80fcc",
      "metadata": {
        "id": "66a80fcc",
        "outputId": "0f16e874-a353-40e6-963f-f9e904c3ec9a"
      },
      "outputs": [
        {
          "name": "stdout",
          "output_type": "stream",
          "text": [
            "smallest 3\n"
          ]
        }
      ],
      "source": [
        "smallest=None\n",
        "list = [9,41,12,3,74,15]\n",
        "for value in list:\n",
        "  if smallest is None:\n",
        "    smallest=value\n",
        "  elif value<smallest:\n",
        "    smallest=value\n",
        "print('smallest',smallest)"
      ]
    },
    {
      "cell_type": "code",
      "execution_count": null,
      "id": "2a9e42dc",
      "metadata": {
        "id": "2a9e42dc",
        "outputId": "244b7267-0ab6-4703-f4ca-70a983d1c357"
      },
      "outputs": [
        {
          "name": "stdout",
          "output_type": "stream",
          "text": [
            "19156\n",
            "1741.4545454545455\n"
          ]
        }
      ],
      "source": [
        "def average(num):\n",
        "  total=0\n",
        "  for i in num:\n",
        "    total=total+i\n",
        "  avg=total/len(num)\n",
        "  return avg,total\n",
        "def main():\n",
        "  prices=[29,21,31,876,98,56,532,1255,5634,9856,768]\n",
        "  result,total=average(prices)\n",
        "  print(total)\n",
        "  print(result)\n",
        "main()"
      ]
    },
    {
      "cell_type": "code",
      "execution_count": null,
      "id": "bbc7c41b",
      "metadata": {
        "id": "bbc7c41b",
        "outputId": "0eb0a852-bb1b-4508-8d70-8bd45f6fd478"
      },
      "outputs": [
        {
          "name": "stdout",
          "output_type": "stream",
          "text": [
            "1712\n",
            "1741.4545454545455\n"
          ]
        }
      ],
      "source": [
        "def average(num):\n",
        "  total=0\n",
        "  for i in num:\n",
        "    total=total+i\n",
        "  avg=total/len(num)\n",
        "  return avg\n",
        "def main():\n",
        "  prices=[29,21,31,876,98,56,532,1255,5634,9856,768]\n",
        "  result=average(prices)\n",
        "  print(order_goal)\n",
        "  print(result)\n",
        "order_goal=1712\n",
        "main()"
      ]
    },
    {
      "cell_type": "code",
      "execution_count": null,
      "id": "d97daf2e",
      "metadata": {
        "id": "d97daf2e",
        "outputId": "9bd0df14-fb08-4bfd-f378-28c219bc3f16"
      },
      "outputs": [
        {
          "name": "stdout",
          "output_type": "stream",
          "text": [
            "Rank: 4\n",
            "highest 4 = 5\n"
          ]
        }
      ],
      "source": [
        "# Write one generic function to find the nth highest in a list\n",
        "\n",
        "def highest(num,rank):\n",
        "  highest=0\n",
        "  rank=int(rank)\n",
        "  for value in num:\n",
        "    if value>highest:\n",
        "      highest=value\n",
        "  \n",
        "  for i in range(1,rank):\n",
        "    a=0\n",
        "    for j in num:\n",
        "      if (j>a and j<highest):\n",
        "        a=j\n",
        "        high=a\n",
        "    highest=high\n",
        "  return high\n",
        "def main():\n",
        "  prices=[5,4,3,8,9,7]\n",
        "  n=input('Rank: ')\n",
        "  result=highest(prices,n)\n",
        "  print('highest %s = %s'%(n,result))\n",
        "main()"
      ]
    },
    {
      "cell_type": "code",
      "execution_count": null,
      "id": "9818ee81",
      "metadata": {
        "id": "9818ee81"
      },
      "outputs": [],
      "source": [
        ""
      ]
    }
  ],
  "metadata": {
    "kernelspec": {
      "display_name": "Python 3 (ipykernel)",
      "language": "python",
      "name": "python3"
    },
    "language_info": {
      "codemirror_mode": {
        "name": "ipython",
        "version": 3
      },
      "file_extension": ".py",
      "mimetype": "text/x-python",
      "name": "python",
      "nbconvert_exporter": "python",
      "pygments_lexer": "ipython3",
      "version": "3.8.12"
    },
    "colab": {
      "name": "3rd program.ipynb",
      "provenance": [],
      "include_colab_link": true
    }
  },
  "nbformat": 4,
  "nbformat_minor": 5
}
