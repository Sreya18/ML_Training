{
  "nbformat": 4,
  "nbformat_minor": 0,
  "metadata": {
    "colab": {
      "name": "Assignment 1.ipynb",
      "provenance": [],
      "authorship_tag": "ABX9TyMsOT5pLqUcsojs/k/747yl",
      "include_colab_link": true
    },
    "kernelspec": {
      "name": "python3",
      "display_name": "Python 3"
    },
    "language_info": {
      "name": "python"
    }
  },
  "cells": [
    {
      "cell_type": "markdown",
      "metadata": {
        "id": "view-in-github",
        "colab_type": "text"
      },
      "source": [
        "<a href=\"https://colab.research.google.com/github/Sreya18/ML_Training/blob/main/Demo/Assignment_1.ipynb\" target=\"_parent\"><img src=\"https://colab.research.google.com/assets/colab-badge.svg\" alt=\"Open In Colab\"/></a>"
      ]
    },
    {
      "cell_type": "code",
      "execution_count": 1,
      "metadata": {
        "colab": {
          "base_uri": "https://localhost:8080/"
        },
        "id": "68u7mjPGBpMM",
        "outputId": "bc27cce2-5ec7-4cec-95a6-ac4df81e77d9"
      },
      "outputs": [
        {
          "output_type": "stream",
          "name": "stdout",
          "text": [
            "Rank: 4\n",
            "highest 4 = 5\n"
          ]
        }
      ],
      "source": [
        "# Write one generic function to find the nth highest in a list\n",
        "\n",
        "def highest(num,rank):\n",
        "  highest=0\n",
        "  rank=int(rank)\n",
        "  for value in num:\n",
        "    if value>highest:\n",
        "      highest=value\n",
        "  \n",
        "  for i in range(1,rank):\n",
        "    a=0\n",
        "    for j in num:\n",
        "      if (j>a and j<highest):\n",
        "        a=j\n",
        "        high=a\n",
        "    highest=high\n",
        "  return high\n",
        "def main():\n",
        "  prices=[5,4,3,8,9,7]\n",
        "  n=input('Rank: ')\n",
        "  result=highest(prices,n)\n",
        "  print('highest %s = %s'%(n,result))\n",
        "main()"
      ]
    },
    {
      "cell_type": "code",
      "source": [
        ""
      ],
      "metadata": {
        "id": "pa4Yt0eEBuTD"
      },
      "execution_count": null,
      "outputs": []
    }
  ]
}
