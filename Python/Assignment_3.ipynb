{
  "cells": [
    {
      "cell_type": "markdown",
      "metadata": {
        "id": "view-in-github",
        "colab_type": "text"
      },
      "source": [
        "<a href=\"https://colab.research.google.com/github/Sreya18/ML_Training/blob/main/Demo/Assignment_3.ipynb\" target=\"_parent\"><img src=\"https://colab.research.google.com/assets/colab-badge.svg\" alt=\"Open In Colab\"/></a>"
      ]
    },
    {
      "cell_type": "code",
      "execution_count": null,
      "id": "ead5e980",
      "metadata": {
        "id": "ead5e980",
        "outputId": "e328a227-b40e-473a-e6de-b5f73b4f0d9e"
      },
      "outputs": [
        {
          "name": "stdout",
          "output_type": "stream",
          "text": [
            "Lenka\n"
          ]
        }
      ],
      "source": [
        "# Create a string variable with your full name in it, with your first and last name (and any middle names) seperated by a \n",
        "# space. Split the string into a list, and print out your surname.\n",
        "\n",
        "name=\"Sreya Lenka\"\n",
        "a=name.split(\" \")\n",
        "print(a[1])\n"
      ]
    },
    {
      "cell_type": "code",
      "execution_count": null,
      "id": "19e1f2f5",
      "metadata": {
        "id": "19e1f2f5",
        "outputId": "100de839-de94-4060-b540-ecd2e5d5bc80"
      },
      "outputs": [
        {
          "name": "stdout",
          "output_type": "stream",
          "text": [
            "True\n",
            "Index of E= 1\n",
            "Index of A= 4\n"
          ]
        }
      ],
      "source": [
        "# Check if your surname contains the letter \"E\", and print out the position of this letter in the string. Try a few other \n",
        "# letters.\n",
        "\n",
        "n=\"Sreya Lenka\"\n",
        "N=n.upper()\n",
        "a=N.split(\" \")\n",
        "print('E' in a[1])\n",
        "index=a[1].find('E')\n",
        "print(\"Index of E=\",index)\n",
        "print(\"Index of A=\",a[1].find('A'))"
      ]
    },
    {
      "cell_type": "code",
      "execution_count": null,
      "id": "5536fca7",
      "metadata": {
        "id": "5536fca7",
        "outputId": "e7d606bc-89bd-4455-9c7d-24a72bcf3296"
      },
      "outputs": [
        {
          "name": "stdout",
          "output_type": "stream",
          "text": [
            "Name: Sreya\n",
            "Length of the 1st name: 5\n"
          ]
        }
      ],
      "source": [
        "# Use a format string to print out your first name and the length of your first name by using str.format()\n",
        "\n",
        "Name='Sreya Lenka'\n",
        "a=Name.split()\n",
        "print(\"Name: {0[0]}\".format(a))\n",
        "print(\"Length of the 1st name: {}\".format(len(a[0])))"
      ]
    },
    {
      "cell_type": "code",
      "execution_count": null,
      "id": "40cf03ed",
      "metadata": {
        "id": "40cf03ed",
        "outputId": "123ff78d-cd17-42d7-a1a7-5ad557a0f80e"
      },
      "outputs": [
        {
          "name": "stdout",
          "output_type": "stream",
          "text": [
            "No. of words in the lyrics: 133\n",
            "\n",
            "No. of unique words in the lyrics: 72\n",
            "\n",
            "\n",
            "{'peace': 1, 'sky': 1, \"isn't\": 1, 'too': 1, 'to': 2, 'hard': 1, 'But': 2, 'Heaven': 1, 'You': 2, \"I'm\": 4, 'not': 2, 'someday': 2, 'do': 1, 'I': 3, 'hunger': 1, 'one': 4, 'life': 1, 'kill': 1, 'us': 4, 'join': 2, 'a': 2, 'brotherhood': 1, 'easy': 1, \"you'll\": 2, 'Yoo': 2, 'say': 2, 'man': 1, 'no': 4, 'may': 2, 'Aaa': 1, 'below': 1, 'if': 2, 'A': 1, 'greed': 1, 'can': 1, 'And': 3, 'die': 1, 'It': 1, 'try': 1, 'dreamer': 2, 'today': 1, 'hope': 2, 'No': 2, 'possessions': 1, 'hoo': 2, 'world': 3, 'be': 1, 'Living': 2, 'Sharing': 1, 'you': 2, 'all': 4, 'live': 1, 'haa': 1, 'countries': 1, 'Hell': 1, 'will': 2, 'or': 2, 'Nothing': 1, 'in': 1, 'only': 3, 'Imagine': 6, 'for': 3, 'need': 1, 'people': 3, 'as': 2, 'of': 1, \"It's\": 1, 'wonder': 1, \"there's\": 2, 'the': 8, 'Above': 1, 'religion': 1}\n",
            "\n",
            "Most frequent word is 'the' with fequency 8\n"
          ]
        }
      ],
      "source": [
        "# Create a string variable with the lyrics of Imagine by John Lennon, 1971. Split into words. Print the total number of \n",
        "# words, and the number of unique words. Calculate the frequency of each word and store the result into a dictionary. \n",
        "# Print each unique word along with its frequency. Find the most frequent word in the song, print it with its frequency.\n",
        " \n",
        "\n",
        "lyrics = \"\"\"\n",
        "Imagine there's no Heaven\n",
        "It's easy if you try\n",
        "No Hell below us\n",
        "Above us only sky\n",
        "\n",
        "Imagine all the people\n",
        "Living for today\n",
        "Aaa haa\n",
        "\n",
        "Imagine there's no countries\n",
        "It isn't hard to do\n",
        "Nothing to kill or die for\n",
        "And no religion too\n",
        "\n",
        "Imagine all the people\n",
        "Living life in peace\n",
        "Yoo hoo\n",
        "\n",
        "You may say I'm a dreamer\n",
        "But I'm not the only one\n",
        "I hope someday you'll join us\n",
        "And the world will be as one\n",
        "\n",
        "Imagine no possessions\n",
        "I wonder if you can\n",
        "No need for greed or hunger\n",
        "A brotherhood of man\n",
        "\n",
        "Imagine all the people\n",
        "Sharing all the world\n",
        "Yoo hoo\n",
        "\n",
        "You may say I'm a dreamer\n",
        "But I'm not the only one\n",
        "I hope someday you'll join us\n",
        "And the world will live as one\n",
        "\"\"\"\n",
        "frequency = {}\n",
        "a=lyrics.split()\n",
        "print(\"No. of words in the lyrics:\", len(a))\n",
        "unique_words=set(a)\n",
        "length=len(unique_words)\n",
        "print(\"\\nNo. of unique words in the lyrics:\", length)\n",
        "b=tuple(unique_words)\n",
        "for i in range(0,length):\n",
        "    value=a.count(b[i])\n",
        "    frequency[b[i]] = value\n",
        "print(\"\\n\")\n",
        "print(frequency)\n",
        "max_key=max(frequency,key=frequency.get)\n",
        "print(f\"\\nMost frequent word is '{max_key}' with fequency {frequency[max_key]}\")"
      ]
    }
  ],
  "metadata": {
    "kernelspec": {
      "display_name": "Python 3 (ipykernel)",
      "language": "python",
      "name": "python3"
    },
    "language_info": {
      "codemirror_mode": {
        "name": "ipython",
        "version": 3
      },
      "file_extension": ".py",
      "mimetype": "text/x-python",
      "name": "python",
      "nbconvert_exporter": "python",
      "pygments_lexer": "ipython3",
      "version": "3.9.7"
    },
    "colab": {
      "name": "Assignment-3.ipynb",
      "provenance": [],
      "include_colab_link": true
    }
  },
  "nbformat": 4,
  "nbformat_minor": 5
}
