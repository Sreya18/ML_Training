{
  "cells": [
    {
      "cell_type": "markdown",
      "metadata": {
        "id": "view-in-github",
        "colab_type": "text"
      },
      "source": [
        "<a href=\"https://colab.research.google.com/github/Sreya18/ML_Training/blob/main/Demo/Files.ipynb\" target=\"_parent\"><img src=\"https://colab.research.google.com/assets/colab-badge.svg\" alt=\"Open In Colab\"/></a>"
      ]
    },
    {
      "cell_type": "code",
      "execution_count": null,
      "id": "609c8247",
      "metadata": {
        "id": "609c8247"
      },
      "outputs": [],
      "source": [
        "path = \"test.txt\"\n",
        "fileObj = open( path )"
      ]
    },
    {
      "cell_type": "code",
      "execution_count": null,
      "id": "7f17d164",
      "metadata": {
        "id": "7f17d164",
        "outputId": "e3c957db-0721-4f49-f0f2-1c6c61fda037"
      },
      "outputs": [
        {
          "name": "stdout",
          "output_type": "stream",
          "text": [
            "Good Morning\n",
            "\n",
            "Hello\n",
            "\n",
            "I am Sreya\n",
            "\n",
            "How are u?\n",
            "\n",
            "Thank you\n",
            "\n",
            "  \n",
            "Line Count: 6\n"
          ]
        }
      ],
      "source": [
        "fhand = open('test.txt')\n",
        "count = 0\n",
        "for line in fhand: \n",
        "    count = count + 1\n",
        "    print(line)\n",
        "print('Line Count:', count)"
      ]
    },
    {
      "cell_type": "code",
      "execution_count": null,
      "id": "7284d8fb",
      "metadata": {
        "id": "7284d8fb",
        "outputId": "136ec489-5057-4161-ea3a-3714018c10d6"
      },
      "outputs": [
        {
          "name": "stdout",
          "output_type": "stream",
          "text": [
            "Good Morning\n",
            "Hello\n",
            "I am Sreya\n",
            "How are u?\n",
            "Thank you\n",
            "  \n"
          ]
        }
      ],
      "source": [
        "fhand = open('test.txt')\n",
        "\n",
        "print(fhand.read())"
      ]
    },
    {
      "cell_type": "code",
      "execution_count": null,
      "id": "2b82f96b",
      "metadata": {
        "id": "2b82f96b",
        "outputId": "6a74aa68-9363-4705-b100-b7824e92525e"
      },
      "outputs": [
        {
          "name": "stdout",
          "output_type": "stream",
          "text": [
            "C:\\Users\\KIIT\\Desktop\\ML_Dec\n"
          ]
        }
      ],
      "source": [
        "import os\n",
        "print(os.getcwd())"
      ]
    },
    {
      "cell_type": "code",
      "execution_count": null,
      "id": "ef4d086a",
      "metadata": {
        "id": "ef4d086a",
        "outputId": "85d0153a-417d-48ad-b138-a82e6ea11cd6"
      },
      "outputs": [
        {
          "name": "stdout",
          "output_type": "stream",
          "text": [
            "Enter the file name:  test.txt\n",
            "count: 2\n"
          ]
        }
      ],
      "source": [
        "fname = input('Enter the file name:  ')\n",
        "try: \n",
        "     fhand = open(fname)\n",
        "     count = 0\n",
        "     for line in fhand: \n",
        "       if line.startswith('H') :    \n",
        "           count = count + 1\n",
        "     print('count:',count)\n",
        "except: \n",
        "   print('File does not exist:', fname)   \n",
        "   \n"
      ]
    },
    {
      "cell_type": "code",
      "execution_count": null,
      "id": "292f43d8",
      "metadata": {
        "id": "292f43d8",
        "outputId": "84cb5e95-3c24-4d21-99fd-5abcf0ccbe36"
      },
      "outputs": [
        {
          "name": "stdout",
          "output_type": "stream",
          "text": [
            "Enter the file name:  out.txt\n",
            "File does not exist: out.txt\n"
          ]
        }
      ],
      "source": [
        "fname = input('Enter the file name:  ')\n",
        "try: \n",
        "   fhand = open(fname)\n",
        "   count = 0\n",
        "   for line in fhand: \n",
        "     if line.startswith('I') :    \n",
        "       count = count + 1\n",
        "   print('count:',count)\n",
        "except: \n",
        "   print('File does not exist:', fname)   \n",
        "   \n"
      ]
    },
    {
      "cell_type": "code",
      "execution_count": null,
      "id": "fc96a89a",
      "metadata": {
        "id": "fc96a89a",
        "outputId": "06f71508-e043-4f47-90aa-e572c73a6b21"
      },
      "outputs": [
        {
          "name": "stdout",
          "output_type": "stream",
          "text": [
            "<_io.TextIOWrapper name='spam_orders.txt' mode='r' encoding='cp1252'>\n"
          ]
        }
      ],
      "source": [
        "sales_log = open('spam_orders.txt', 'r')\n",
        "print(sales_log)\n",
        "for line in sales_log:  \n",
        "     line = line.rstrip() \n",
        "     if not '@uct.ac.za' in line : \n",
        "        continue \n",
        "     print(line)\n",
        "sales_log = open('spam_orders.txt', 'a')\n",
        "sales_log.write('The Spam Van\\n')\n",
        "sales_log.write('Append Mode\\n')\n",
        "sales_log.write('Sales Log\\n')\n",
        "sales_log.close()"
      ]
    },
    {
      "cell_type": "code",
      "execution_count": null,
      "id": "16e1498c",
      "metadata": {
        "id": "16e1498c"
      },
      "outputs": [],
      "source": [
        "sales_log = open('spam_orders1.txt', 'x')\n",
        "sales_log.write('The Spam Van\\n')\n",
        "sales_log.write('Append Mode\\n')\n",
        "sales_log.write('Sales Log\\n')\n",
        "sales_log.close()"
      ]
    },
    {
      "cell_type": "code",
      "execution_count": null,
      "id": "a9d78fdf",
      "metadata": {
        "id": "a9d78fdf",
        "outputId": "56bc898a-8692-43e6-ee1d-9655a9918bd0"
      },
      "outputs": [
        {
          "data": {
            "text/plain": [
              "['C:\\\\Users\\\\KIIT\\\\Desktop\\\\ML_Dec',\n",
              " 'C:\\\\Users\\\\KIIT\\\\anaconda3\\\\envs\\\\MLDecember\\\\python38.zip',\n",
              " 'C:\\\\Users\\\\KIIT\\\\anaconda3\\\\envs\\\\MLDecember\\\\DLLs',\n",
              " 'C:\\\\Users\\\\KIIT\\\\anaconda3\\\\envs\\\\MLDecember\\\\lib',\n",
              " 'C:\\\\Users\\\\KIIT\\\\anaconda3\\\\envs\\\\MLDecember',\n",
              " '',\n",
              " 'C:\\\\Users\\\\KIIT\\\\anaconda3\\\\envs\\\\MLDecember\\\\lib\\\\site-packages',\n",
              " 'C:\\\\Users\\\\KIIT\\\\anaconda3\\\\envs\\\\MLDecember\\\\lib\\\\site-packages\\\\win32',\n",
              " 'C:\\\\Users\\\\KIIT\\\\anaconda3\\\\envs\\\\MLDecember\\\\lib\\\\site-packages\\\\win32\\\\lib',\n",
              " 'C:\\\\Users\\\\KIIT\\\\anaconda3\\\\envs\\\\MLDecember\\\\lib\\\\site-packages\\\\Pythonwin',\n",
              " 'C:\\\\Users\\\\KIIT\\\\anaconda3\\\\envs\\\\MLDecember\\\\lib\\\\site-packages\\\\IPython\\\\extensions',\n",
              " 'C:\\\\Users\\\\KIIT\\\\.ipython']"
            ]
          },
          "execution_count": 26,
          "metadata": {},
          "output_type": "execute_result"
        }
      ],
      "source": [
        "import sys\n",
        "sys.path"
      ]
    },
    {
      "cell_type": "code",
      "execution_count": null,
      "id": "352c2969",
      "metadata": {
        "id": "352c2969"
      },
      "outputs": [],
      "source": [
        "open( \"data/test.txt\", \"r\" ) # open for reading, default"
      ]
    },
    {
      "cell_type": "code",
      "execution_count": null,
      "id": "fb3db873",
      "metadata": {
        "id": "fb3db873"
      },
      "outputs": [],
      "source": [
        "open( \"data/myfile.txt\", \"w\" ) # open for writing (existing files will be overwritten)"
      ]
    },
    {
      "cell_type": "code",
      "execution_count": null,
      "id": "01c23ce7",
      "metadata": {
        "id": "01c23ce7"
      },
      "outputs": [],
      "source": [
        "open( \"data/myfile.txt\", \"a\" ) # open for appending"
      ]
    },
    {
      "cell_type": "code",
      "execution_count": null,
      "id": "9c75b1bb",
      "metadata": {
        "id": "9c75b1bb"
      },
      "outputs": [],
      "source": [
        "fileObj.close()"
      ]
    },
    {
      "cell_type": "code",
      "execution_count": null,
      "id": "393be31b",
      "metadata": {
        "id": "393be31b",
        "outputId": "089d9ef3-108b-4b02-99f5-712733ab6b23"
      },
      "outputs": [
        {
          "name": "stdout",
          "output_type": "stream",
          "text": [
            "1st line: Good Morning\n",
            "\n",
            "2nd line: Hello\n",
            "\n",
            "3rd line: I am Sreya\n",
            "\n",
            "4th line: How are u?\n",
            "\n",
            "5th line: Thank you\n",
            "\n",
            "6th line:   \n"
          ]
        }
      ],
      "source": [
        "fileObj = open( \"test.txt\" )\n",
        "print(\"1st line:\", fileObj.readline())\n",
        "print(\"2nd line:\", fileObj.readline())\n",
        "print(\"3rd line:\", fileObj.readline())\n",
        "print(\"4th line:\", fileObj.readline())\n",
        "print(\"5th line:\", fileObj.readline())\n",
        "print(\"6th line:\", fileObj.readline())\n",
        "fileObj.close()"
      ]
    },
    {
      "cell_type": "code",
      "execution_count": null,
      "id": "6aa2142e",
      "metadata": {
        "id": "6aa2142e",
        "outputId": "95cf2634-f4be-4377-a442-ec1f02d06db0"
      },
      "outputs": [
        {
          "name": "stdout",
          "output_type": "stream",
          "text": [
            "['Good Morning\\n', 'Hello\\n', 'I am Sreya\\n', 'How are u?\\n', 'Thank you\\n', '  ']\n",
            "<class 'list'>\n",
            "The file has 6 lines\n"
          ]
        }
      ],
      "source": [
        "fileObj = open(\"test.txt\")\n",
        "\n",
        "lines = fileObj.readlines()\n",
        "print(lines)\n",
        "print(type(lines))\n",
        "\n",
        "print(\"The file has\", len(lines), \"lines\")\n",
        "\n",
        "fileObj.close()"
      ]
    },
    {
      "cell_type": "code",
      "execution_count": null,
      "id": "fcd6569a",
      "metadata": {
        "id": "fcd6569a",
        "outputId": "151202b5-b3c2-4021-efe5-ecbbfdb4c330"
      },
      "outputs": [
        {
          "name": "stdout",
          "output_type": "stream",
          "text": [
            "Good Morning\n",
            "Hello\n",
            "I am Sreya\n",
            "How are u?\n",
            "Thank you\n",
            "  \n",
            "<class 'str'>\n",
            "The file has 53 characters\n"
          ]
        }
      ],
      "source": [
        "fileObj = open( \"test.txt\" )\n",
        "lines = fileObj.read()\n",
        "print(lines)\n",
        "print(type(lines))\n",
        "print(\"The file has\", len(lines), \"characters\")\n",
        "fileObj.close()"
      ]
    },
    {
      "cell_type": "code",
      "execution_count": null,
      "id": "53cdd07c",
      "metadata": {
        "id": "53cdd07c",
        "outputId": "e169fd58-853a-40d7-b880-03471f434c28"
      },
      "outputs": [
        {
          "name": "stdout",
          "output_type": "stream",
          "text": [
            "<class 'list'>\n",
            "GOOD MORNING\n",
            "HELLO\n",
            "I AM SREYA\n",
            "HOW ARE U?\n",
            "THANK YOU\n",
            "\n"
          ]
        }
      ],
      "source": [
        "fileObj = open(\"test.txt\")\n",
        "lines = fileObj.readlines()\n",
        "print(type(lines))\n",
        "for line in lines:\n",
        "    print(line.rstrip().upper())\n",
        "fileObj.close()"
      ]
    },
    {
      "cell_type": "code",
      "execution_count": null,
      "id": "4d5b44df",
      "metadata": {
        "id": "4d5b44df",
        "outputId": "e7e297d0-ae97-42cf-b79f-23a2ec5a2dfd"
      },
      "outputs": [
        {
          "name": "stdout",
          "output_type": "stream",
          "text": [
            "O\n"
          ]
        }
      ],
      "source": [
        "# WAP to print only \"O\" in \"HELLO\"\n",
        "\n",
        "fileObj=open(\"test.txt\")\n",
        "lines=fileObj.readlines()\n",
        "for line in lines:\n",
        "    l=line.rstrip().upper()\n",
        "    if l=='HELLO':\n",
        "        m=list(l)\n",
        "        for i in m:\n",
        "            if i=='O':\n",
        "                print(i)"
      ]
    },
    {
      "cell_type": "code",
      "execution_count": null,
      "id": "10f651aa",
      "metadata": {
        "id": "10f651aa",
        "outputId": "32dd6e73-aed7-447a-c161-8d1c183fda58"
      },
      "outputs": [
        {
          "name": "stdout",
          "output_type": "stream",
          "text": [
            "I\n"
          ]
        }
      ],
      "source": [
        "# WAP to print only \"I\" in \"I AM SREYA\"\n",
        "\n",
        "fileObj=open(\"test.txt\")\n",
        "lines=fileObj.readlines()\n",
        "for line in lines:\n",
        "    l=line.rstrip().upper()\n",
        "    if l=='I AM SREYA':\n",
        "        m=l.split(\" \")\n",
        "        for i in m:\n",
        "            if i=='I':\n",
        "                print(i)"
      ]
    },
    {
      "cell_type": "code",
      "execution_count": null,
      "id": "82495e1b",
      "metadata": {
        "id": "82495e1b",
        "outputId": "8e553edf-9998-4701-c626-1cda1d926164"
      },
      "outputs": [
        {
          "name": "stdout",
          "output_type": "stream",
          "text": [
            "Enter the price: Rey\n"
          ]
        },
        {
          "ename": "ValueError",
          "evalue": "could not convert string to float: 'Rey'",
          "output_type": "error",
          "traceback": [
            "\u001b[1;31m---------------------------------------------------------------------------\u001b[0m",
            "\u001b[1;31mValueError\u001b[0m                                Traceback (most recent call last)",
            "\u001b[1;32m~\\AppData\\Local\\Temp/ipykernel_15736/890222131.py\u001b[0m in \u001b[0;36m<module>\u001b[1;34m\u001b[0m\n\u001b[0;32m      1\u001b[0m \u001b[0mprice\u001b[0m \u001b[1;33m=\u001b[0m \u001b[0minput\u001b[0m\u001b[1;33m(\u001b[0m\u001b[1;34m\"Enter the price: \"\u001b[0m\u001b[1;33m)\u001b[0m\u001b[1;33m\u001b[0m\u001b[1;33m\u001b[0m\u001b[0m\n\u001b[1;32m----> 2\u001b[1;33m \u001b[0mprice\u001b[0m \u001b[1;33m=\u001b[0m \u001b[0mfloat\u001b[0m\u001b[1;33m(\u001b[0m\u001b[0mprice\u001b[0m\u001b[1;33m)\u001b[0m\u001b[1;33m\u001b[0m\u001b[1;33m\u001b[0m\u001b[0m\n\u001b[0m\u001b[0;32m      3\u001b[0m \u001b[0mprint\u001b[0m\u001b[1;33m(\u001b[0m\u001b[1;34m'Price ='\u001b[0m\u001b[1;33m,\u001b[0m \u001b[0mprice\u001b[0m\u001b[1;33m)\u001b[0m\u001b[1;33m\u001b[0m\u001b[1;33m\u001b[0m\u001b[0m\n",
            "\u001b[1;31mValueError\u001b[0m: could not convert string to float: 'Rey'"
          ]
        }
      ],
      "source": [
        "price = input(\"Enter the price: \")\n",
        "price = float(price) \n",
        "print('Price =', price) "
      ]
    },
    {
      "cell_type": "code",
      "execution_count": null,
      "id": "1f9864c5",
      "metadata": {
        "id": "1f9864c5",
        "outputId": "3b8bb7bf-37a2-4e68-f653-a853ef3a1af9"
      },
      "outputs": [
        {
          "name": "stdout",
          "output_type": "stream",
          "text": [
            "Enter the price: Rey\n",
            "could not convert string to float: 'Rey'\n"
          ]
        }
      ],
      "source": [
        "price = input(\"Enter the price: \")\n",
        "try: \n",
        "    price = float(price) \n",
        "    print('Price =', price) \n",
        "except ValueError as err : \n",
        "    print(err )"
      ]
    },
    {
      "cell_type": "code",
      "execution_count": null,
      "id": "558bea8d",
      "metadata": {
        "id": "558bea8d",
        "outputId": "1bb645a0-398b-4c2f-e8b2-da70c95bb591"
      },
      "outputs": [
        {
          "name": "stdout",
          "output_type": "stream",
          "text": [
            "62\n",
            "1.7320508075688772\n"
          ]
        }
      ],
      "source": [
        "import random\n",
        "ticket = random.randint(1, 1000) \n",
        "print(ticket)\n",
        "import math \n",
        "answer = math.sqrt(3) \n",
        "print(answer)"
      ]
    },
    {
      "cell_type": "code",
      "execution_count": null,
      "id": "f5294d97",
      "metadata": {
        "id": "f5294d97",
        "outputId": "bf57db5b-b941-4eff-ca27-edf37cb51756"
      },
      "outputs": [
        {
          "name": "stdout",
          "output_type": "stream",
          "text": [
            "1: 'Good Morning\\n'\n",
            "2: 'Hello\\n'\n",
            "3: 'I am Sreya\\n'\n",
            "4: 'How are u?\\n'\n",
            "5: 'Thank you\\n'\n",
            "6: '  '\n"
          ]
        }
      ],
      "source": [
        "# fileObj will be closed when leaving the block\n",
        "with open( \"test.txt\" ) as fileObj:\n",
        "    for ( i, line ) in enumerate( fileObj, start = 1 ):\n",
        "        print(\"%s: %r\" % ( i, line ))"
      ]
    },
    {
      "cell_type": "code",
      "execution_count": null,
      "id": "4fef1558",
      "metadata": {
        "id": "4fef1558"
      },
      "outputs": [],
      "source": [
        "marks = {\n",
        "    'Luttapi': 43,\n",
        "    'Dagini': 32,\n",
        "    'Mayavi': 34\n",
        "}\n",
        "\n",
        "with open( \"out.txt\", \"w\" ) as output:\n",
        "    output.write(\"Name\\tMark\\n\")\n",
        "\n",
        "    for mark in marks:\n",
        "        line = \"\\t\".join( [ mark, str(marks[mark]) ] )\n",
        "        output.write(line + \"\\n\")"
      ]
    },
    {
      "cell_type": "code",
      "execution_count": null,
      "id": "780d4ef4",
      "metadata": {
        "id": "780d4ef4",
        "outputId": "85a6b340-8b73-41f6-b154-5fe420b5bf0a"
      },
      "outputs": [
        {
          "name": "stdout",
          "output_type": "stream",
          "text": [
            "[['Hello'], ['I', 'am', 'Sreya'], ['How', 'are', 'u?'], ['Thank', 'you'], ['']]\n"
          ]
        }
      ],
      "source": [
        "results = []\n",
        "\n",
        "with open(\"test.txt\", \"r\") as data:\n",
        "    header = data.readline()\n",
        "    for line in data:\n",
        "        line = line.strip()\n",
        "        results.append(line.split(\" \"))\n",
        "        \n",
        "print(results)"
      ]
    },
    {
      "cell_type": "code",
      "execution_count": null,
      "id": "531c5af7",
      "metadata": {
        "id": "531c5af7"
      },
      "outputs": [],
      "source": [
        "mydata = [{'Organism': 'Human', 'Index': 1, 'Score': 1.076}, \n",
        "          {'Organism': 'Mouse', 'Index': 2, 'Score': 1.202}, \n",
        "          {'Organism': 'Frog', 'Index': 3, 'Score': 2.2362}, \n",
        "          {'Organism': 'Fly', 'Index': 4, 'Score': 0.9853}]\n",
        "\n",
        "with open('mydata.csv', 'w') as output:\n",
        "    # write a header\n",
        "    header = \",\".join(['Index', 'Organism', 'Score'])\n",
        "    output.write(header + \"\\n\")\n",
        "    for row in mydata:\n",
        "        line = \",\".join([str(row['Index']), row['Organism'], str(row['Score'])])\n",
        "        output.write(line + \"\\n\")"
      ]
    },
    {
      "cell_type": "code",
      "execution_count": null,
      "id": "521e7cee",
      "metadata": {
        "id": "521e7cee",
        "outputId": "3a386953-d990-4076-b511-df8622c2120d"
      },
      "outputs": [
        {
          "name": "stdout",
          "output_type": "stream",
          "text": [
            "3.141592653589793 2.718281828459045\n"
          ]
        }
      ],
      "source": [
        "import math\n",
        "print(math.pi, math.e)"
      ]
    },
    {
      "cell_type": "code",
      "execution_count": null,
      "id": "e0a5d3e2",
      "metadata": {
        "id": "e0a5d3e2",
        "outputId": "b4adebdc-a29f-44db-968e-84a4f2522c05"
      },
      "outputs": [
        {
          "name": "stdout",
          "output_type": "stream",
          "text": [
            "3.141592653589793 2.718281828459045\n"
          ]
        }
      ],
      "source": [
        "import math as m\n",
        "print(m.pi, m.e)"
      ]
    },
    {
      "cell_type": "code",
      "execution_count": null,
      "id": "8fbade7f",
      "metadata": {
        "id": "8fbade7f",
        "outputId": "85fb0c64-dddf-440b-9563-8fe060038c6f"
      },
      "outputs": [
        {
          "name": "stdout",
          "output_type": "stream",
          "text": [
            "3.141592653589793 2.718281828459045\n"
          ]
        }
      ],
      "source": [
        "from math import pi, e\n",
        "print(pi, e)"
      ]
    },
    {
      "cell_type": "code",
      "execution_count": null,
      "id": "016eeb2d",
      "metadata": {
        "id": "016eeb2d",
        "outputId": "8d04a42f-17da-4487-c1fb-a8985f46d4ec"
      },
      "outputs": [
        {
          "name": "stdout",
          "output_type": "stream",
          "text": [
            "3.141592653589793 2.718281828459045\n"
          ]
        }
      ],
      "source": [
        "from math import pi\n",
        "from math import e\n",
        "print(pi,e)"
      ]
    },
    {
      "cell_type": "code",
      "execution_count": null,
      "id": "0ee634e8",
      "metadata": {
        "id": "0ee634e8",
        "outputId": "99fde9d2-711d-4282-9b4d-1548923588aa"
      },
      "outputs": [
        {
          "data": {
            "text/plain": [
              "['__doc__',\n",
              " '__loader__',\n",
              " '__name__',\n",
              " '__package__',\n",
              " '__spec__',\n",
              " 'acos',\n",
              " 'acosh',\n",
              " 'asin',\n",
              " 'asinh',\n",
              " 'atan',\n",
              " 'atan2',\n",
              " 'atanh',\n",
              " 'ceil',\n",
              " 'comb',\n",
              " 'copysign',\n",
              " 'cos',\n",
              " 'cosh',\n",
              " 'degrees',\n",
              " 'dist',\n",
              " 'e',\n",
              " 'erf',\n",
              " 'erfc',\n",
              " 'exp',\n",
              " 'expm1',\n",
              " 'fabs',\n",
              " 'factorial',\n",
              " 'floor',\n",
              " 'fmod',\n",
              " 'frexp',\n",
              " 'fsum',\n",
              " 'gamma',\n",
              " 'gcd',\n",
              " 'hypot',\n",
              " 'inf',\n",
              " 'isclose',\n",
              " 'isfinite',\n",
              " 'isinf',\n",
              " 'isnan',\n",
              " 'isqrt',\n",
              " 'ldexp',\n",
              " 'lgamma',\n",
              " 'log',\n",
              " 'log10',\n",
              " 'log1p',\n",
              " 'log2',\n",
              " 'modf',\n",
              " 'nan',\n",
              " 'perm',\n",
              " 'pi',\n",
              " 'pow',\n",
              " 'prod',\n",
              " 'radians',\n",
              " 'remainder',\n",
              " 'sin',\n",
              " 'sinh',\n",
              " 'sqrt',\n",
              " 'tan',\n",
              " 'tanh',\n",
              " 'tau',\n",
              " 'trunc']"
            ]
          },
          "execution_count": 19,
          "metadata": {},
          "output_type": "execute_result"
        }
      ],
      "source": [
        "import math\n",
        "dir(math)"
      ]
    },
    {
      "cell_type": "code",
      "execution_count": null,
      "id": "d2160886",
      "metadata": {
        "id": "d2160886",
        "outputId": "41591495-6c4b-4fba-f87a-b8b21df1ff65"
      },
      "outputs": [
        {
          "data": {
            "text/plain": [
              "['__add__',\n",
              " '__class__',\n",
              " '__contains__',\n",
              " '__delattr__',\n",
              " '__dir__',\n",
              " '__doc__',\n",
              " '__eq__',\n",
              " '__format__',\n",
              " '__ge__',\n",
              " '__getattribute__',\n",
              " '__getitem__',\n",
              " '__getnewargs__',\n",
              " '__gt__',\n",
              " '__hash__',\n",
              " '__init__',\n",
              " '__init_subclass__',\n",
              " '__iter__',\n",
              " '__le__',\n",
              " '__len__',\n",
              " '__lt__',\n",
              " '__mod__',\n",
              " '__mul__',\n",
              " '__ne__',\n",
              " '__new__',\n",
              " '__reduce__',\n",
              " '__reduce_ex__',\n",
              " '__repr__',\n",
              " '__rmod__',\n",
              " '__rmul__',\n",
              " '__setattr__',\n",
              " '__sizeof__',\n",
              " '__str__',\n",
              " '__subclasshook__',\n",
              " 'capitalize',\n",
              " 'casefold',\n",
              " 'center',\n",
              " 'count',\n",
              " 'encode',\n",
              " 'endswith',\n",
              " 'expandtabs',\n",
              " 'find',\n",
              " 'format',\n",
              " 'format_map',\n",
              " 'index',\n",
              " 'isalnum',\n",
              " 'isalpha',\n",
              " 'isascii',\n",
              " 'isdecimal',\n",
              " 'isdigit',\n",
              " 'isidentifier',\n",
              " 'islower',\n",
              " 'isnumeric',\n",
              " 'isprintable',\n",
              " 'isspace',\n",
              " 'istitle',\n",
              " 'isupper',\n",
              " 'join',\n",
              " 'ljust',\n",
              " 'lower',\n",
              " 'lstrip',\n",
              " 'maketrans',\n",
              " 'partition',\n",
              " 'replace',\n",
              " 'rfind',\n",
              " 'rindex',\n",
              " 'rjust',\n",
              " 'rpartition',\n",
              " 'rsplit',\n",
              " 'rstrip',\n",
              " 'split',\n",
              " 'splitlines',\n",
              " 'startswith',\n",
              " 'strip',\n",
              " 'swapcase',\n",
              " 'title',\n",
              " 'translate',\n",
              " 'upper',\n",
              " 'zfill']"
            ]
          },
          "execution_count": 20,
          "metadata": {},
          "output_type": "execute_result"
        }
      ],
      "source": [
        "dir(\"mystring\")"
      ]
    },
    {
      "cell_type": "code",
      "execution_count": null,
      "id": "09eaaa04",
      "metadata": {
        "id": "09eaaa04",
        "outputId": "394d0fb6-23f9-4d7b-dd34-18140b36dd13"
      },
      "outputs": [
        {
          "data": {
            "text/plain": [
              "['__add__',\n",
              " '__class__',\n",
              " '__contains__',\n",
              " '__delattr__',\n",
              " '__dir__',\n",
              " '__doc__',\n",
              " '__eq__',\n",
              " '__format__',\n",
              " '__ge__',\n",
              " '__getattribute__',\n",
              " '__getitem__',\n",
              " '__getnewargs__',\n",
              " '__gt__',\n",
              " '__hash__',\n",
              " '__init__',\n",
              " '__init_subclass__',\n",
              " '__iter__',\n",
              " '__le__',\n",
              " '__len__',\n",
              " '__lt__',\n",
              " '__mod__',\n",
              " '__mul__',\n",
              " '__ne__',\n",
              " '__new__',\n",
              " '__reduce__',\n",
              " '__reduce_ex__',\n",
              " '__repr__',\n",
              " '__rmod__',\n",
              " '__rmul__',\n",
              " '__setattr__',\n",
              " '__sizeof__',\n",
              " '__str__',\n",
              " '__subclasshook__',\n",
              " 'capitalize',\n",
              " 'casefold',\n",
              " 'center',\n",
              " 'count',\n",
              " 'encode',\n",
              " 'endswith',\n",
              " 'expandtabs',\n",
              " 'find',\n",
              " 'format',\n",
              " 'format_map',\n",
              " 'index',\n",
              " 'isalnum',\n",
              " 'isalpha',\n",
              " 'isascii',\n",
              " 'isdecimal',\n",
              " 'isdigit',\n",
              " 'isidentifier',\n",
              " 'islower',\n",
              " 'isnumeric',\n",
              " 'isprintable',\n",
              " 'isspace',\n",
              " 'istitle',\n",
              " 'isupper',\n",
              " 'join',\n",
              " 'ljust',\n",
              " 'lower',\n",
              " 'lstrip',\n",
              " 'maketrans',\n",
              " 'partition',\n",
              " 'replace',\n",
              " 'rfind',\n",
              " 'rindex',\n",
              " 'rjust',\n",
              " 'rpartition',\n",
              " 'rsplit',\n",
              " 'rstrip',\n",
              " 'split',\n",
              " 'splitlines',\n",
              " 'startswith',\n",
              " 'strip',\n",
              " 'swapcase',\n",
              " 'title',\n",
              " 'translate',\n",
              " 'upper',\n",
              " 'zfill']"
            ]
          },
          "execution_count": 21,
          "metadata": {},
          "output_type": "execute_result"
        }
      ],
      "source": [
        "dir(str)"
      ]
    },
    {
      "cell_type": "code",
      "execution_count": null,
      "id": "2e067734",
      "metadata": {
        "id": "2e067734",
        "outputId": "6a5ebd38-cb18-423c-aee5-e76777c4cbfa"
      },
      "outputs": [
        {
          "name": "stdout",
          "output_type": "stream",
          "text": [
            "Help on method_descriptor:\n",
            "\n",
            "title(self, /)\n",
            "    Return a version of the string where each word is titlecased.\n",
            "    \n",
            "    More specifically, words start with uppercased characters and all remaining\n",
            "    cased characters have lower case.\n",
            "\n"
          ]
        }
      ],
      "source": [
        "help(str.title)"
      ]
    },
    {
      "cell_type": "code",
      "execution_count": null,
      "id": "713c93c4",
      "metadata": {
        "id": "713c93c4",
        "outputId": "7e6a915f-ecb0-4144-d93a-cd31f41e1c44"
      },
      "outputs": [
        {
          "name": "stdout",
          "output_type": "stream",
          "text": [
            "['Good', 'Morning']\n",
            "['Hello']\n",
            "['I', 'am', 'Sreya']\n",
            "['How', 'are', 'u?']\n",
            "['Thank', 'you']\n",
            "['', '', '']\n"
          ]
        }
      ],
      "source": [
        "import csv\n",
        "with open(\"test.txt\") as f:\n",
        "    reader = csv.reader(f, delimiter = \" \") # default delimiter is \",\"\n",
        "    for row in reader:\n",
        "        print(row)"
      ]
    },
    {
      "cell_type": "code",
      "execution_count": null,
      "id": "4ddd9c4d",
      "metadata": {
        "id": "4ddd9c4d",
        "outputId": "d77aabf6-8f4a-4d93-e1b2-da407200a3b9"
      },
      "outputs": [
        {
          "name": "stdout",
          "output_type": "stream",
          "text": [
            "Index\tScore\tOrganism\n",
            "\n",
            "1\t1.076\tHuman\n",
            "\n",
            "2\t1.202\tMouse\n",
            "\n",
            "3\t2.2362\tFrog\n",
            "\n",
            "4\t0.9853\tFly\n",
            "\n",
            "\n"
          ]
        }
      ],
      "source": [
        "# Write delimited files using the csv module from a list of dictionaries \n",
        "import csv\n",
        "\n",
        "mydata = [\n",
        "    {'Index': '1', 'Score': '1.076', 'Organism': 'Human'}, \n",
        "    {'Index': '2', 'Score': '1.202', 'Organism': 'Mouse'}, \n",
        "    {'Index': '3', 'Score': '2.2362', 'Organism': 'Frog'}, \n",
        "    {'Index': '4', 'Score': '0.9853', 'Organism': 'Fly'}\n",
        "]\n",
        "\n",
        "with open(\"csvdictdata.tsv\", \"w\") as f:\n",
        "    writer = csv.DictWriter(f, mydata[0].keys(), delimiter='\\t')\n",
        "    writer.writeheader() # write header\n",
        "\n",
        "    for record in mydata:\n",
        "        writer.writerow( record )\n",
        "\n",
        "# Open the output file and print out its content\n",
        "with open(\"csvdictdata.tsv\") as f:\n",
        "    print(f.read())"
      ]
    },
    {
      "cell_type": "code",
      "execution_count": null,
      "id": "d307436f",
      "metadata": {
        "id": "d307436f",
        "outputId": "3365a852-116b-4454-9a33-23b1105e0430"
      },
      "outputs": [
        {
          "name": "stdout",
          "output_type": "stream",
          "text": [
            "Index\tOrganism\tScore\n",
            "\n",
            "1\tHuman\t1.076\n",
            "\n",
            "2\tMouse\t1.202\n",
            "\n",
            "3\tFrog\t2.2362\n",
            "\n",
            "4\tFly\t0.9853\n",
            "\n",
            "\n"
          ]
        }
      ],
      "source": [
        "# Write tab delimited files using the csv module\n",
        "import csv\n",
        "\n",
        "mydata = [\n",
        "    ['1', 'Human', '1.076'], \n",
        "    ['2', 'Mouse', '1.202'], \n",
        "    ['3', 'Frog', '2.2362'], \n",
        "    ['4', 'Fly', '0.9853']\n",
        "]\n",
        "\n",
        "with open(\"csvdata.tsv\", \"w\") as f:\n",
        "    writer = csv.writer(f, delimiter='\\t' )\n",
        "    writer.writerow( [ \"Index\", \"Organism\", \"Score\" ] ) # write header\n",
        "    for record in mydata:\n",
        "        writer.writerow( record )\n",
        "\n",
        "# Open the output file and print out its content\n",
        "with open(\"csvdata.tsv\") as f:\n",
        "    print(f.read())"
      ]
    },
    {
      "cell_type": "code",
      "execution_count": null,
      "id": "d5259bf2",
      "metadata": {
        "id": "d5259bf2",
        "outputId": "7b27d688-0900-47c5-e539-817309c1328f"
      },
      "outputs": [
        {
          "data": {
            "text/plain": [
              "'data\\\\mydata.txt'"
            ]
          },
          "execution_count": 27,
          "metadata": {},
          "output_type": "execute_result"
        }
      ],
      "source": [
        "import os.path\n",
        "os.path.join(\"data\", \"mydata.txt\")\n",
        "# data/mydata.txt - Unix\n",
        "# data\\mydata.txt - Windows"
      ]
    },
    {
      "cell_type": "code",
      "execution_count": null,
      "id": "6ca3064c",
      "metadata": {
        "id": "6ca3064c",
        "outputId": "e6020d45-d7d3-45ed-ced2-664ba9b70dc6"
      },
      "outputs": [
        {
          "name": "stdout",
          "output_type": "stream",
          "text": [
            "file data\\mydata.txt not found!\n"
          ]
        }
      ],
      "source": [
        "import os.path\n",
        "data_file = os.path.join(\"data\", \"mydata.txt\")\n",
        "if os.path.exists(data_file):\n",
        "    print(\"file\", data_file, \"exists\")\n",
        "    with open(data_file) as f:\n",
        "        print(f.read())\n",
        "else:\n",
        "    print(\"file\", data_file, \"not found!\")"
      ]
    },
    {
      "cell_type": "code",
      "execution_count": null,
      "id": "e44d7f89",
      "metadata": {
        "id": "e44d7f89"
      },
      "outputs": [],
      "source": [
        ""
      ]
    }
  ],
  "metadata": {
    "kernelspec": {
      "display_name": "Python 3 (ipykernel)",
      "language": "python",
      "name": "python3"
    },
    "language_info": {
      "codemirror_mode": {
        "name": "ipython",
        "version": 3
      },
      "file_extension": ".py",
      "mimetype": "text/x-python",
      "name": "python",
      "nbconvert_exporter": "python",
      "pygments_lexer": "ipython3",
      "version": "3.8.12"
    },
    "colab": {
      "name": "Files.ipynb",
      "provenance": [],
      "include_colab_link": true
    }
  },
  "nbformat": 4,
  "nbformat_minor": 5
}
